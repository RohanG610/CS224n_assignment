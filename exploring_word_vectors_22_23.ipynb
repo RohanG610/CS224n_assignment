{
  "cells": [
    {
      "cell_type": "markdown",
      "metadata": {
        "id": "3HqK14JLSStR"
      },
      "source": [
        "# CS224N Assignment 1: Exploring Word Vectors (25 Points)\n",
        "### <font color='blue'> Due 4:30pm, Tue Jan 17 </font>\n",
        "\n",
        "Welcome to CS224N!\n",
        "\n",
        "Before you start, make sure you read the README.txt in the same directory as this notebook for important setup information. A lot of code is provided in this notebook, and we highly encourage you to read and understand it as part of the learning :)\n",
        "\n",
        "If you aren't super familiar with Python, Numpy, or Matplotlib, we recommend you check out the review session on Friday. The session will be recorded and the material will be made available on our [website](http://web.stanford.edu/class/cs224n/index.html#schedule). The CS231N Python/Numpy [tutorial](https://cs231n.github.io/python-numpy-tutorial/) is also a great resource.\n",
        "\n",
        "\n",
        "**Assignment Notes:** Please make sure to save the notebook as you go along. Submission Instructions are located at the bottom of the notebook."
      ]
    },
    {
      "cell_type": "code",
      "execution_count": 41,
      "metadata": {
        "id": "8AGQxROrSStf",
        "colab": {
          "base_uri": "https://localhost:8080/"
        },
        "outputId": "165bceab-3bbb-48d3-d30c-29f537e93b06"
      },
      "outputs": [
        {
          "output_type": "stream",
          "name": "stderr",
          "text": [
            "[nltk_data] Downloading package reuters to /root/nltk_data...\n",
            "[nltk_data]   Package reuters is already up-to-date!\n"
          ]
        }
      ],
      "source": [
        "# All Import Statements Defined Here\n",
        "# Note: Do not add to this list.\n",
        "# ----------------\n",
        "\n",
        "import sys\n",
        "assert sys.version_info[0]==3\n",
        "assert sys.version_info[1] >= 5\n",
        "\n",
        "from platform import python_version\n",
        "assert int(python_version().split(\".\")[1]) >= 5, \"Please upgrade your Python version following the instructions in \\\n",
        "    the README.txt file found in the same directory as this notebook. Your Python version is \" + python_version()\n",
        "\n",
        "from gensim.models import KeyedVectors\n",
        "from gensim.test.utils import datapath\n",
        "import pprint\n",
        "import matplotlib.pyplot as plt\n",
        "plt.rcParams['figure.figsize'] = [10, 5]\n",
        "\n",
        "import nltk\n",
        "nltk.download('reuters') #to specify download location, optionally add the argument: download_dir='/specify/desired/path/'\n",
        "from nltk.corpus import reuters #Installing new articles and headlines\n",
        "\n",
        "import numpy as np\n",
        "import random\n",
        "import scipy as sp\n",
        "from sklearn.decomposition import TruncatedSVD\n",
        "from sklearn.decomposition import PCA\n",
        "\n",
        "START_TOKEN = '<START>'\n",
        "END_TOKEN = '<END>'\n",
        "\n",
        "np.random.seed(0)\n",
        "random.seed(0)\n",
        "# ----------------"
      ]
    },
    {
      "cell_type": "markdown",
      "metadata": {
        "id": "SICd5IedSSto"
      },
      "source": [
        "## Word Vectors\n",
        "\n",
        "Word Vectors are often used as a fundamental component for downstream NLP tasks, e.g. question answering, text generation, translation, etc., so it is important to build some intuitions as to their strengths and weaknesses. Here, you will explore two types of word vectors: those derived from *co-occurrence matrices*, and those derived via *GloVe*.\n",
        "\n",
        "**Note on Terminology:** The terms \"word vectors\" and \"word embeddings\" are often used interchangeably. The term \"embedding\" refers to the fact that we are encoding aspects of a word's meaning in a lower dimensional space. As [Wikipedia](https://en.wikipedia.org/wiki/Word_embedding) states, \"*conceptually it involves a mathematical embedding from a space with one dimension per word to a continuous vector space with a much lower dimension*\"."
      ]
    },
    {
      "cell_type": "markdown",
      "metadata": {
        "id": "6Eug6AVrSStr"
      },
      "source": [
        "## Part 1: Count-Based Word Vectors (10 points)\n",
        "\n",
        "Most word vector models start from the following idea:\n",
        "\n",
        "*You shall know a word by the company it keeps ([Firth, J. R. 1957:11](https://en.wikipedia.org/wiki/John_Rupert_Firth))*\n",
        "\n",
        "Many word vector implementations are driven by the idea that similar words, i.e., (near) synonyms, will be used in similar contexts. As a result, similar words will often be spoken or written along with a shared subset of words, i.e., contexts. By examining these contexts, we can try to develop embeddings for our words. With this intuition in mind, many \"old school\" approaches to constructing word vectors relied on word counts. Here we elaborate upon one of those strategies, *co-occurrence matrices* (for more information, see [here](https://web.stanford.edu/~jurafsky/slp3/6.pdf) or [here](https://medium.com/data-science-group-iitr/word-embedding-2d05d270b285))."
      ]
    },
    {
      "cell_type": "markdown",
      "metadata": {
        "id": "L6uQ9-DVSSts"
      },
      "source": [
        "### Co-Occurrence\n",
        "\n",
        "A co-occurrence matrix counts how often things co-occur in some environment. Given some word $w_i$ occurring in the document, we consider the *context window* surrounding $w_i$. Supposing our fixed window size is $n$, then this is the $n$ preceding and $n$ subsequent words in that document, i.e. words $w_{i-n} \\dots w_{i-1}$ and $w_{i+1} \\dots w_{i+n}$. We build a *co-occurrence matrix* $M$, which is a symmetric word-by-word matrix in which $M_{ij}$ is the number of times $w_j$ appears inside $w_i$'s window among all documents.\n",
        "\n",
        "**Example: Co-Occurrence with Fixed Window of n=1**:\n",
        "\n",
        "Document 1: \"all that glitters is not gold\"\n",
        "\n",
        "Document 2: \"all is well that ends well\"\n",
        "\n",
        "\n",
        "|     *    | `<START>` | all | that | glitters | is   | not  | gold  | well | ends | `<END>` |\n",
        "|----------|-------|-----|------|----------|------|------|-------|------|------|-----|\n",
        "| `<START>`    | 0     | 2   | 0    | 0        | 0    | 0    | 0     | 0    | 0    | 0   |\n",
        "| all      | 2     | 0   | 1    | 0        | 1    | 0    | 0     | 0    | 0    | 0   |\n",
        "| that     | 0     | 1   | 0    | 1        | 0    | 0    | 0     | 1    | 1    | 0   |\n",
        "| glitters | 0     | 0   | 1    | 0        | 1    | 0    | 0     | 0    | 0    | 0   |\n",
        "| is       | 0     | 1   | 0    | 1        | 0    | 1    | 0     | 1    | 0    | 0   |\n",
        "| not      | 0     | 0   | 0    | 0        | 1    | 0    | 1     | 0    | 0    | 0   |\n",
        "| gold     | 0     | 0   | 0    | 0        | 0    | 1    | 0     | 0    | 0    | 1   |\n",
        "| well     | 0     | 0   | 1    | 0        | 1    | 0    | 0     | 0    | 1    | 1   |\n",
        "| ends     | 0     | 0   | 1    | 0        | 0    | 0    | 0     | 1    | 0    | 0   |\n",
        "| `<END>`      | 0     | 0   | 0    | 0        | 0    | 0    | 1     | 1    | 0    | 0   |\n",
        "\n",
        "**Note:** In NLP, we often add `<START>` and `<END>` tokens to represent the beginning and end of sentences, paragraphs or documents. In this case we imagine `<START>` and `<END>` tokens encapsulating each document, e.g., \"`<START>` All that glitters is not gold `<END>`\", and include these tokens in our co-occurrence counts.\n",
        "\n",
        "The rows (or columns) of this matrix provide one type of word vectors (those based on word-word co-occurrence), but the vectors will be large in general (linear in the number of distinct words in a corpus). Thus, our next step is to run *dimensionality reduction*. In particular, we will run *SVD (Singular Value Decomposition)*, which is a kind of generalized *PCA (Principal Components Analysis)* to select the top $k$ principal components. Here's a visualization of dimensionality reduction with SVD. In this picture our co-occurrence matrix is $A$ with $n$ rows corresponding to $n$ words. We obtain a full matrix decomposition, with the singular values ordered in the diagonal $S$ matrix, and our new, shorter length-$k$ word vectors in $U_k$.\n",
        "\n",
        "![Picture of an SVD](./imgs/svd.png \"SVD\")\n",
        "\n",
        "This reduced-dimensionality co-occurrence representation preserves semantic relationships between words, e.g. *doctor* and *hospital* will be closer than *doctor* and *dog*.\n",
        "\n",
        "**Notes:** If you can barely remember what an eigenvalue is, here's [a slow, friendly introduction to SVD](https://davetang.org/file/Singular_Value_Decomposition_Tutorial.pdf). If you want to learn more thoroughly about PCA or SVD, feel free to check out lectures [7](https://web.stanford.edu/class/cs168/l/l7.pdf), [8](http://theory.stanford.edu/~tim/s15/l/l8.pdf), and [9](https://web.stanford.edu/class/cs168/l/l9.pdf) of CS168. These course notes provide a great high-level treatment of these general purpose algorithms. Though, for the purpose of this class, you only need to know how to extract the k-dimensional embeddings by utilizing pre-programmed implementations of these algorithms from the numpy, scipy, or sklearn python packages. In practice, it is challenging to apply full SVD to large corpora because of the memory needed to perform PCA or SVD. However, if you only want the top $k$ vector components for relatively small $k$ — known as [Truncated SVD](https://en.wikipedia.org/wiki/Singular_value_decomposition#Truncated_SVD) — then there are reasonably scalable techniques to compute those iteratively."
      ]
    },
    {
      "cell_type": "markdown",
      "metadata": {
        "id": "7IKeK4xtSStv"
      },
      "source": [
        "### Plotting Co-Occurrence Word Embeddings\n",
        "\n",
        "Here, we will be using the Reuters (business and financial news) corpus. If you haven't run the import cell at the top of this page, please run it now (click it and press SHIFT-RETURN). The corpus consists of 10,788 news documents totaling 1.3 million words. These documents span 90 categories and are split into train and test. For more details, please see https://www.nltk.org/book/ch02.html. We provide a `read_corpus` function below that pulls out only articles from the \"gold\" (i.e. news articles about gold, mining, etc.) category. The function also adds `<START>` and `<END>` tokens to each of the documents, and lowercases words. You do **not** have to perform any other kind of pre-processing."
      ]
    },
    {
      "cell_type": "code",
      "execution_count": 42,
      "metadata": {
        "id": "xwD2htUoSStw"
      },
      "outputs": [],
      "source": [
        "def read_corpus(category=\"gold\"):\n",
        "    \"\"\" Read files from the specified Reuter's category.\n",
        "        Params:\n",
        "            category (string): category name\n",
        "        Return:\n",
        "            list of lists, with words from each of the processed files\n",
        "    \"\"\"\n",
        "    files = reuters.fileids(category)\n",
        "    return [[START_TOKEN] + [w.lower() for w in list(reuters.words(f))] + [END_TOKEN] for f in files]\n"
      ]
    },
    {
      "cell_type": "markdown",
      "metadata": {
        "id": "hVLquFhjSStx"
      },
      "source": [
        "Let's have a look what these documents are like…."
      ]
    },
    {
      "cell_type": "code",
      "execution_count": 43,
      "metadata": {
        "id": "mC7B9Cb-SSty",
        "colab": {
          "base_uri": "https://localhost:8080/"
        },
        "outputId": "443554cd-dec5-4c85-88f3-8987828bb139"
      },
      "outputs": [
        {
          "output_type": "stream",
          "name": "stdout",
          "text": [
            "[['<START>', 'western', 'mining', 'to', 'open', 'new', 'gold', 'mine', 'in', 'australia', 'western',\n",
            "  'mining', 'corp', 'holdings', 'ltd', '&', 'lt', ';', 'wmng', '.', 's', '>', '(', 'wmc', ')',\n",
            "  'said', 'it', 'will', 'establish', 'a', 'new', 'joint', 'venture', 'gold', 'mine', 'in', 'the',\n",
            "  'northern', 'territory', 'at', 'a', 'cost', 'of', 'about', '21', 'mln', 'dlrs', '.', 'the',\n",
            "  'mine', ',', 'to', 'be', 'known', 'as', 'the', 'goodall', 'project', ',', 'will', 'be', 'owned',\n",
            "  '60', 'pct', 'by', 'wmc', 'and', '40', 'pct', 'by', 'a', 'local', 'w', '.', 'r', '.', 'grace',\n",
            "  'and', 'co', '&', 'lt', ';', 'gra', '>', 'unit', '.', 'it', 'is', 'located', '30', 'kms', 'east',\n",
            "  'of', 'the', 'adelaide', 'river', 'at', 'mt', '.', 'bundey', ',', 'wmc', 'said', 'in', 'a',\n",
            "  'statement', 'it', 'said', 'the', 'open', '-', 'pit', 'mine', ',', 'with', 'a', 'conventional',\n",
            "  'leach', 'treatment', 'plant', ',', 'is', 'expected', 'to', 'produce', 'about', '50', ',', '000',\n",
            "  'ounces', 'of', 'gold', 'in', 'its', 'first', 'year', 'of', 'production', 'from', 'mid', '-',\n",
            "  '1988', '.', 'annual', 'ore', 'capacity', 'will', 'be', 'about', '750', ',', '000', 'tonnes', '.',\n",
            "  '<END>'],\n",
            " ['<START>', 'belgium', 'to', 'issue', 'gold', 'warrants', ',', 'sources', 'say', 'belgium',\n",
            "  'plans', 'to', 'issue', 'swiss', 'franc', 'warrants', 'to', 'buy', 'gold', ',', 'with', 'credit',\n",
            "  'suisse', 'as', 'lead', 'manager', ',', 'market', 'sources', 'said', '.', 'no', 'confirmation',\n",
            "  'or', 'further', 'details', 'were', 'immediately', 'available', '.', '<END>'],\n",
            " ['<START>', 'belgium', 'launches', 'bonds', 'with', 'gold', 'warrants', 'the', 'kingdom', 'of',\n",
            "  'belgium', 'is', 'launching', '100', 'mln', 'swiss', 'francs', 'of', 'seven', 'year', 'notes',\n",
            "  'with', 'warrants', 'attached', 'to', 'buy', 'gold', ',', 'lead', 'mananger', 'credit', 'suisse',\n",
            "  'said', '.', 'the', 'notes', 'themselves', 'have', 'a', '3', '-', '3', '/', '8', 'pct', 'coupon',\n",
            "  'and', 'are', 'priced', 'at', 'par', '.', 'payment', 'is', 'due', 'april', '30', ',', '1987',\n",
            "  'and', 'final', 'maturity', 'april', '30', ',', '1994', '.', 'each', '50', ',', '000', 'franc',\n",
            "  'note', 'carries', '15', 'warrants', '.', 'two', 'warrants', 'are', 'required', 'to', 'allow',\n",
            "  'the', 'holder', 'to', 'buy', '100', 'grammes', 'of', 'gold', 'at', 'a', 'price', 'of', '2', ',',\n",
            "  '450', 'francs', ',', 'during', 'the', 'entire', 'life', 'of', 'the', 'bond', '.', 'the',\n",
            "  'latest', 'gold', 'price', 'in', 'zurich', 'was', '2', ',', '045', '/', '2', ',', '070', 'francs',\n",
            "  'per', '100', 'grammes', '.', '<END>']]\n"
          ]
        }
      ],
      "source": [
        "reuters_corpus = read_corpus()\n",
        "pprint.pprint(reuters_corpus[:3], compact=True, width=100)"
      ]
    },
    {
      "cell_type": "markdown",
      "metadata": {
        "id": "tfa216H1SSt0"
      },
      "source": [
        "### Question 1.1: Implement `distinct_words` [code] (2 points)\n",
        "\n",
        "Write a method to work out the distinct words (word types) that occur in the corpus. You can do this with `for` loops, but it's more efficient to do it with Python list comprehensions. In particular, [this](https://coderwall.com/p/rcmaea/flatten-a-list-of-lists-in-one-line-in-python) may be useful to flatten a list of lists. If you're not familiar with Python list comprehensions in general, here's [more information](https://python-3-patterns-idioms-test.readthedocs.io/en/latest/Comprehensions.html).\n",
        "\n",
        "Your returned `corpus_words` should be sorted. You can use python's `sorted` function for this.\n",
        "\n",
        "You may find it useful to use [Python sets](https://www.w3schools.com/python/python_sets.asp) to remove duplicate words."
      ]
    },
    {
      "cell_type": "code",
      "execution_count": 44,
      "metadata": {
        "id": "NjJABbVFSSt1"
      },
      "outputs": [],
      "source": [
        "def distinct_words(corpus):\n",
        "    \"\"\" Determine a list of distinct words for the corpus.\n",
        "        Params:\n",
        "            corpus (list of list of strings): corpus of documents\n",
        "        Return:\n",
        "            corpus_words (list of strings): sorted list of distinct words across the corpus\n",
        "            n_corpus_words (integer): number of distinct words across the corpus\n",
        "    \"\"\"\n",
        "    corpus_words = []\n",
        "    n_corpus_words = -1\n",
        "\n",
        "    ### SOLUTION BEGIN\n",
        "    for i in corpus:\n",
        "        for word in i:\n",
        "            if word not in corpus_words:\n",
        "                corpus_words.append(word)\n",
        "                n_corpus_words+=1\n",
        "    print(corpus_words)\n",
        "    corpus_words = sorted(corpus_words)\n",
        "    if n_corpus_words>0:\n",
        "        n_corpus_words+=1\n",
        "    ### SOLUTION END\n",
        "\n",
        "    return corpus_words, n_corpus_words"
      ]
    },
    {
      "cell_type": "code",
      "execution_count": 45,
      "metadata": {
        "id": "iKfXBXySSSt3",
        "colab": {
          "base_uri": "https://localhost:8080/"
        },
        "outputId": "e7687d94-6d9d-482d-f23f-e588ed44a173"
      },
      "outputs": [
        {
          "output_type": "stream",
          "name": "stdout",
          "text": [
            "['<START>', 'All', 'that', 'glitters', \"isn't\", 'gold', '<END>', \"All's\", 'well', 'ends']\n",
            "--------------------------------------------------------------------------------\n",
            "Passed All Tests!\n",
            "--------------------------------------------------------------------------------\n"
          ]
        }
      ],
      "source": [
        "# ---------------------\n",
        "# Run this sanity check\n",
        "# Note that this not an exhaustive check for correctness.\n",
        "# ---------------------\n",
        "\n",
        "# Define toy corpus\n",
        "test_corpus = [\"{} All that glitters isn't gold {}\".format(START_TOKEN, END_TOKEN).split(\" \"), \"{} All's well that ends well {}\".format(START_TOKEN, END_TOKEN).split(\" \")]\n",
        "test_corpus_words, num_corpus_words = distinct_words(test_corpus)\n",
        "\n",
        "# Correct answers\n",
        "ans_test_corpus_words = sorted([START_TOKEN, \"All\", \"ends\", \"that\", \"gold\", \"All's\", \"glitters\", \"isn't\", \"well\", END_TOKEN])\n",
        "ans_num_corpus_words = len(ans_test_corpus_words)\n",
        "\n",
        "# Test correct number of words\n",
        "assert(num_corpus_words == ans_num_corpus_words), \"Incorrect number of distinct words. Correct: {}. Yours: {}\".format(ans_num_corpus_words, num_corpus_words)\n",
        "\n",
        "# Test correct words\n",
        "assert (test_corpus_words == ans_test_corpus_words), \"Incorrect corpus_words.\\nCorrect: {}\\nYours:   {}\".format(str(ans_test_corpus_words), str(test_corpus_words))\n",
        "\n",
        "# Print Success\n",
        "print (\"-\" * 80)\n",
        "print(\"Passed All Tests!\")\n",
        "print (\"-\" * 80)"
      ]
    },
    {
      "cell_type": "markdown",
      "metadata": {
        "id": "ymDFJn_lSSt5"
      },
      "source": [
        "### Question 1.2: Implement `compute_co_occurrence_matrix` [code] (3 points)\n",
        "\n",
        "Write a method that constructs a co-occurrence matrix for a certain window-size $n$ (with a default of 4), considering words $n$ before and $n$ after the word in the center of the window. Here, we start to use `numpy (np)` to represent vectors, matrices, and tensors. If you're not familiar with NumPy, there's a NumPy tutorial in the second half of this cs231n [Python NumPy tutorial](http://cs231n.github.io/python-numpy-tutorial/).\n"
      ]
    },
    {
      "cell_type": "code",
      "execution_count": 50,
      "metadata": {
        "id": "v8MIy3KDSSt6"
      },
      "outputs": [],
      "source": [
        "from collections import defaultdict\n",
        "def compute_co_occurrence_matrix(corpus, window_size=4):\n",
        "    \"\"\" Compute co-occurrence matrix for the given corpus and window_size (default of 4).\n",
        "\n",
        "        Note: Each word in a document should be at the center of a window. Words near edges will have a smaller\n",
        "              number of co-occurring words.\n",
        "\n",
        "              For example, if we take the document \"<START> All that glitters is not gold <END>\" with window size of 4,\n",
        "              \"All\" will co-occur with \"<START>\", \"that\", \"glitters\", \"is\", and \"not\".\n",
        "\n",
        "        Params:\n",
        "            corpus (list of list of strings): corpus of documents\n",
        "            window_size (int): size of context window\n",
        "        Return:\n",
        "            M (a symmetric numpy matrix of shape (number of unique words in the corpus , number of unique words in the corpus)):\n",
        "                Co-occurence matrix of word counts.\n",
        "                The ordering of the words in the rows/columns should be the same as the ordering of the words given by the distinct_words function.\n",
        "            word2ind (dict): dictionary that maps word to index (i.e. row/column number) for matrix M.\n",
        "    \"\"\"\n",
        "    words, n_words = distinct_words(corpus)\n",
        "    M = None\n",
        "    word2ind = {}\n",
        "\n",
        "    ### SOLUTION BEGIN\n",
        "    for ind, word in enumerate(words):\n",
        "      word2ind[word] = ind\n",
        "    M = np.zeros((n_words,n_words)) #Making empty matrix for co-occurence\n",
        "\n",
        "    for sentence in corpus: #looping through sentence\n",
        "      for i in range(len(sentence)): #looping through each word\n",
        "        start = i - window_size if i - window_size >= 0 else 0 #putting start values\n",
        "        end = i + window_size if i + window_size <= len(sentence) else len(sentence) #putting end values\n",
        "        words_in_window = sentence[start:end] #making subarray for loop over and add values\n",
        "        temp_count = defaultdict(int)\n",
        "        for word in words_in_window:\n",
        "          temp_count[word2ind[word]] += 1 #dict with values for each word\n",
        "\n",
        "        for toCompare in temp_count.keys():\n",
        "          for others, value in temp_count.items():\n",
        "            if toCompare != others:\n",
        "              M[toCompare][others] += value #putting values from dict to co-occurence matrix\n",
        "    ### SOLUTION END\n",
        "\n",
        "    return M, word2ind"
      ]
    },
    {
      "cell_type": "code",
      "execution_count": 51,
      "metadata": {
        "id": "u-6ID1qhSSt7",
        "colab": {
          "base_uri": "https://localhost:8080/"
        },
        "outputId": "fb81f038-3bc1-4008-ccfe-3b3949176f2d"
      },
      "outputs": [
        {
          "output_type": "stream",
          "name": "stdout",
          "text": [
            "['<START>', 'All', 'that', 'glitters', \"isn't\", 'gold', '<END>', \"All's\", 'well', 'ends']\n",
            "--------------------------------------------------------------------------------\n",
            "Passed All Tests!\n",
            "--------------------------------------------------------------------------------\n"
          ]
        }
      ],
      "source": [
        "# ---------------------\n",
        "# Run this sanity check\n",
        "# Note that this is not an exhaustive check for correctness.\n",
        "# ---------------------\n",
        "\n",
        "# Define toy corpus and get student's co-occurrence matrix\n",
        "test_corpus = [\"{} All that glitters isn't gold {}\".format(START_TOKEN, END_TOKEN).split(\" \"), \"{} All's well that ends well {}\".format(START_TOKEN, END_TOKEN).split(\" \")]\n",
        "M_test, word2ind_test = compute_co_occurrence_matrix(test_corpus, window_size=1)\n",
        "\n",
        "# Correct M and word2ind\n",
        "M_test_ans = np.array(\n",
        "    [[0., 0., 0., 0., 0., 0., 1., 0., 0., 1.,],\n",
        "     [0., 0., 1., 1., 0., 0., 0., 0., 0., 0.,],\n",
        "     [0., 1., 0., 0., 0., 0., 0., 0., 1., 0.,],\n",
        "     [0., 1., 0., 0., 0., 0., 0., 0., 0., 1.,],\n",
        "     [0., 0., 0., 0., 0., 0., 0., 0., 1., 1.,],\n",
        "     [0., 0., 0., 0., 0., 0., 0., 1., 1., 0.,],\n",
        "     [1., 0., 0., 0., 0., 0., 0., 1., 0., 0.,],\n",
        "     [0., 0., 0., 0., 0., 1., 1., 0., 0., 0.,],\n",
        "     [0., 0., 1., 0., 1., 1., 0., 0., 0., 1.,],\n",
        "     [1., 0., 0., 1., 1., 0., 0., 0., 1., 0.,]]\n",
        ")\n",
        "ans_test_corpus_words = sorted([START_TOKEN, \"All\", \"ends\", \"that\", \"gold\", \"All's\", \"glitters\", \"isn't\", \"well\", END_TOKEN])\n",
        "word2ind_ans = dict(zip(ans_test_corpus_words, range(len(ans_test_corpus_words))))\n",
        "\n",
        "# Test correct word2ind\n",
        "assert (word2ind_ans == word2ind_test), \"Your word2ind is incorrect:\\nCorrect: {}\\nYours: {}\".format(word2ind_ans, word2ind_test)\n",
        "\n",
        "# Test correct M shape\n",
        "assert (M_test.shape == M_test_ans.shape), \"M matrix has incorrect shape.\\nCorrect: {}\\nYours: {}\".format(M_test.shape, M_test_ans.shape)\n",
        "\n",
        "# Test correct M values\n",
        "for w1 in word2ind_ans.keys():\n",
        "    idx1 = word2ind_ans[w1]\n",
        "    for w2 in word2ind_ans.keys():\n",
        "        idx2 = word2ind_ans[w2]\n",
        "        student = M_test[idx1, idx2]\n",
        "        correct = M_test_ans[idx1, idx2]\n",
        "        if student != correct:\n",
        "            print(\"Correct M:\")\n",
        "            print(M_test_ans)\n",
        "            print(\"Your M: \")\n",
        "            print(M_test)\n",
        "            raise AssertionError(\"Incorrect count at index ({}, {})=({}, {}) in matrix M. Yours has {} but should have {}.\".format(idx1, idx2, w1, w2, student, correct))\n",
        "\n",
        "# Print Success\n",
        "print (\"-\" * 80)\n",
        "print(\"Passed All Tests!\")\n",
        "print (\"-\" * 80)"
      ]
    },
    {
      "cell_type": "markdown",
      "metadata": {
        "id": "K-nyJnAASSt9"
      },
      "source": [
        "### Question 1.3: Implement `reduce_to_k_dim` [code] (1 point)\n",
        "\n",
        "Construct a method that performs dimensionality reduction on the matrix to produce k-dimensional embeddings. Use SVD to take the top k components and produce a new matrix of k-dimensional embeddings.\n",
        "\n",
        "**Note:** All of numpy, scipy, and scikit-learn (`sklearn`) provide *some* implementation of SVD, but only scipy and sklearn provide an implementation of Truncated SVD, and only sklearn provides an efficient randomized algorithm for calculating large-scale Truncated SVD. So please use [sklearn.decomposition.TruncatedSVD](https://scikit-learn.org/stable/modules/generated/sklearn.decomposition.TruncatedSVD.html)."
      ]
    },
    {
      "cell_type": "code",
      "execution_count": 54,
      "metadata": {
        "id": "truGMjifSSt9"
      },
      "outputs": [],
      "source": [
        "def reduce_to_k_dim(M, k=2):\n",
        "    \"\"\" Reduce a co-occurence count matrix of dimensionality (num_corpus_words, num_corpus_words)\n",
        "        to a matrix of dimensionality (num_corpus_words, k) using the following SVD function from Scikit-Learn:\n",
        "            - http://scikit-learn.org/stable/modules/generated/sklearn.decomposition.TruncatedSVD.html\n",
        "\n",
        "        Params:\n",
        "            M (numpy matrix of shape (number of unique words in the corpus , number of unique words in the corpus)): co-occurence matrix of word counts\n",
        "            k (int): embedding size of each word after dimension reduction\n",
        "        Return:\n",
        "            M_reduced (numpy matrix of shape (number of corpus words, k)): matrix of k-dimensioal word embeddings.\n",
        "                    In terms of the SVD from math class, this actually returns U * S\n",
        "    \"\"\"\n",
        "    n_iters = 10     # Use this parameter in your call to `TruncatedSVD`\n",
        "    M_reduced = None\n",
        "    print(\"Running Truncated SVD over %i words...\" % (M.shape[0]))\n",
        "\n",
        "    ### SOLUTION BEGIN\n",
        "    truncatedSVD = TruncatedSVD(n_iter = n_iters) #Using Singluar Value Decompostion from sklearn libraries\n",
        "    M_reduced = truncatedSVD.fit_transform(M)\n",
        "    ### SOLUTION END\n",
        "\n",
        "    print(\"Done.\")\n",
        "    return M_reduced"
      ]
    },
    {
      "cell_type": "code",
      "execution_count": 55,
      "metadata": {
        "id": "7pqKuqvhSSt-",
        "colab": {
          "base_uri": "https://localhost:8080/"
        },
        "outputId": "e8cfc2a5-26a5-4a5d-b510-f0bcc292be0d"
      },
      "outputs": [
        {
          "output_type": "stream",
          "name": "stdout",
          "text": [
            "['<START>', 'All', 'that', 'glitters', \"isn't\", 'gold', '<END>', \"All's\", 'well', 'ends']\n",
            "Running Truncated SVD over 10 words...\n",
            "Done.\n",
            "--------------------------------------------------------------------------------\n",
            "Passed All Tests!\n",
            "--------------------------------------------------------------------------------\n"
          ]
        }
      ],
      "source": [
        "# ---------------------\n",
        "# Run this sanity check\n",
        "# Note that this is not an exhaustive check for correctness\n",
        "# In fact we only check that your M_reduced has the right dimensions.\n",
        "# ---------------------\n",
        "# Define toy corpus and run student code\n",
        "test_corpus = [\"{} All that glitters isn't gold {}\".format(START_TOKEN, END_TOKEN).split(\" \"), \"{} All's well that ends well {}\".format(START_TOKEN, END_TOKEN).split(\" \")]\n",
        "M_test, word2ind_test = compute_co_occurrence_matrix(test_corpus, window_size=1)\n",
        "M_test_reduced = reduce_to_k_dim(M_test, k=2)\n",
        "\n",
        "# Test proper dimensions\n",
        "assert (M_test_reduced.shape[0] == 10), \"M_reduced has {} rows; should have {}\".format(M_test_reduced.shape[0], 10)\n",
        "assert (M_test_reduced.shape[1] == 2), \"M_reduced has {} columns; should have {}\".format(M_test_reduced.shape[1], 2)\n",
        "\n",
        "# Print Success\n",
        "print (\"-\" * 80)\n",
        "print(\"Passed All Tests!\")\n",
        "print (\"-\" * 80)"
      ]
    },
    {
      "cell_type": "markdown",
      "metadata": {
        "id": "apZknsLoSSt_"
      },
      "source": [
        "### Question 1.4: Implement `plot_embeddings` [code] (1 point)\n",
        "\n",
        "Here you will write a function to plot a set of 2D vectors in 2D space. For graphs, we will use Matplotlib (`plt`).\n",
        "\n",
        "For this example, you may find it useful to adapt [this code](http://web.archive.org/web/20190924160434/https://www.pythonmembers.club/2018/05/08/matplotlib-scatter-plot-annotate-set-text-at-label-each-point/). In the future, a good way to make a plot is to look at [the Matplotlib gallery](https://matplotlib.org/gallery/index.html), find a plot that looks somewhat like what you want, and adapt the code they give."
      ]
    },
    {
      "cell_type": "code",
      "execution_count": 59,
      "metadata": {
        "id": "dDcCZE5lSSuA"
      },
      "outputs": [],
      "source": [
        "def plot_embeddings(M_reduced, word2ind, words):\n",
        "    \"\"\" Plot in a scatterplot the embeddings of the words specified in the list \"words\".\n",
        "        NOTE: do not plot all the words listed in M_reduced / word2ind.\n",
        "        Include a label next to each point.\n",
        "\n",
        "        Params:\n",
        "            M_reduced (numpy matrix of shape (number of unique words in the corpus , 2)): matrix of 2-dimensioal word embeddings\n",
        "            word2ind (dict): dictionary that maps word to indices for matrix M\n",
        "            words (list of strings): words whose embeddings we want to visualize\n",
        "    \"\"\"\n",
        "\n",
        "    ### SOLUTION BEGIN\n",
        "    indices = [word2ind[word] for word in words]\n",
        "    x = [M_reduced[index,0] for index in indices]\n",
        "    y = [M_reduced[index,1] for index in indices]\n",
        "\n",
        "    for i, word in enumerate(words):\n",
        "      plt.scatter(x[i],y[i], marker='x', color='red')\n",
        "      plt.text(x[i],y[i],word)\n",
        "    ### SOLUTION END"
      ]
    },
    {
      "cell_type": "code",
      "execution_count": 60,
      "metadata": {
        "id": "gHxOMWPxSSuB",
        "colab": {
          "base_uri": "https://localhost:8080/",
          "height": 497
        },
        "outputId": "e922517c-02c8-408e-b768-770f84c594f0"
      },
      "outputs": [
        {
          "output_type": "stream",
          "name": "stdout",
          "text": [
            "--------------------------------------------------------------------------------\n",
            "Outputted Plot:\n",
            "--------------------------------------------------------------------------------\n"
          ]
        },
        {
          "output_type": "display_data",
          "data": {
            "text/plain": [
              "<Figure size 1000x500 with 1 Axes>"
            ],
            "image/png": "[encoded data removed]"
          },
          "metadata": {}
        }
      ],
      "source": [
        "# ---------------------\n",
        "# Run this sanity check\n",
        "# Note that this is not an exhaustive check for correctness.\n",
        "# The plot produced should look like the \"test solution plot\" depicted below.\n",
        "# ---------------------\n",
        "\n",
        "print (\"-\" * 80)\n",
        "print (\"Outputted Plot:\")\n",
        "\n",
        "M_reduced_plot_test = np.array([[1, 1], [-1, -1], [1, -1], [-1, 1], [0, 0]])\n",
        "word2ind_plot_test = {'test1': 0, 'test2': 1, 'test3': 2, 'test4': 3, 'test5': 4}\n",
        "words = ['test1', 'test2', 'test3', 'test4', 'test5']\n",
        "plot_embeddings(M_reduced_plot_test, word2ind_plot_test, words)\n",
        "\n",
        "print (\"-\" * 80)"
      ]
    },
    {
      "cell_type": "markdown",
      "metadata": {
        "id": "YpBzYs2hSSuC"
      },
      "source": [
        "### Question 1.5: Co-Occurrence Plot Analysis [written] (3 points)\n",
        "\n",
        "Now we will put together all the parts you have written! We will compute the co-occurrence matrix with fixed window of 4 (the default window size), over the Reuters \"gold\" corpus. Then we will use TruncatedSVD to compute 2-dimensional embeddings of each word. TruncatedSVD returns U\\*S, so we need to normalize the returned vectors, so that all the vectors will appear around the unit circle (therefore closeness is directional closeness). **Note**: The line of code below that does the normalizing uses the NumPy concept of *broadcasting*. If you don't know about broadcasting, check out\n",
        "[Computation on Arrays: Broadcasting by Jake VanderPlas](https://jakevdp.github.io/PythonDataScienceHandbook/02.05-computation-on-arrays-broadcasting.html).\n",
        "\n",
        "Run the below cell to produce the plot. It'll probably take a few seconds to run."
      ]
    },
    {
      "cell_type": "code",
      "execution_count": 61,
      "metadata": {
        "id": "7L1Uk50mSSuD",
        "colab": {
          "base_uri": "https://localhost:8080/",
          "height": 517
        },
        "outputId": "50033309-a7e4-4d6a-89a4-0fe7efc06231"
      },
      "outputs": [
        {
          "output_type": "stream",
          "name": "stdout",
          "text": [
            "['<START>', 'western', 'mining', 'to', 'open', 'new', 'gold', 'mine', 'in', 'australia', 'corp', 'holdings', 'ltd', '&', 'lt', ';', 'wmng', '.', 's', '>', '(', 'wmc', ')', 'said', 'it', 'will', 'establish', 'a', 'joint', 'venture', 'the', 'northern', 'territory', 'at', 'cost', 'of', 'about', '21', 'mln', 'dlrs', ',', 'be', 'known', 'as', 'goodall', 'project', 'owned', '60', 'pct', 'by', 'and', '40', 'local', 'w', 'r', 'grace', 'co', 'gra', 'unit', 'is', 'located', '30', 'kms', 'east', 'adelaide', 'river', 'mt', 'bundey', 'statement', '-', 'pit', 'with', 'conventional', 'leach', 'treatment', 'plant', 'expected', 'produce', '50', '000', 'ounces', 'its', 'first', 'year', 'production', 'from', 'mid', '1988', 'annual', 'ore', 'capacity', '750', 'tonnes', '<END>', 'belgium', 'issue', 'warrants', 'sources', 'say', 'plans', 'swiss', 'franc', 'buy', 'credit', 'suisse', 'lead', 'manager', 'market', 'no', 'confirmation', 'or', 'further', 'details', 'were', 'immediately', 'available', 'launches', 'bonds', 'kingdom', 'launching', '100', 'francs', 'seven', 'notes', 'attached', 'mananger', 'themselves', 'have', '3', '/', '8', 'coupon', 'are', 'priced', 'par', 'payment', 'due', 'april', '1987', 'final', 'maturity', '1994', 'each', 'note', 'carries', '15', 'two', 'required', 'allow', 'holder', 'grammes', 'price', '2', '450', 'during', 'entire', 'life', 'bond', 'latest', 'zurich', 'was', '045', '070', 'per', 'gordex', 'minerals', 'locates', 'deposits', 'mineral', 'geologists', 'more', 'than', 'one', 'tons', 'bearing', '0', '057', 'ton', 'cape', 'spencer', 'company', 'invest', '5', 'canadian', 'expand', 'on', 'site', 'facilities', 'process', 'this', '200', 'prior', 'completion', 'recent', 'exploration', 'program', 'estimated', 'deposit', 'had', 'expansion', 'intented', 'enable', 'operate', '24', 'hours', 'day', 'throughout', 'canada', 'short', 'intended', 'operation', 'u', 'dollar', 'losses', 'propel', 'broad', 'commodity', 'gains', 'commodities', 'grains', 'cotton', 'posted', 'solid', 'flurry', 'buying', 'today', 'rising', 'interest', 'rates', 'kindled', 'fears', 'inflation', 'economic', 'instability', 'most', 'pronounced', 'exchange', 'york', 'where', 'jumped', '12', 'closed', '436', 'troy', 'ounce', 'silver', '22', 'cents', '6', '86', 'key', 'factor', 'behind', 'advance', 'anticipation', 'that', 'only', 'way', 'for', 'major', 'industrial', 'nations', 'halt', 'slide', 'value', 'steve', 'chronowitz', 'director', 'research', 'smith', 'barney', 'harris', 'upham', '.,', 'tumbled', 'after', 'top', 'finance', 'officials', 'largest', 'reaffirmed', 'their', 'commitment', 'support', 'despite', 'reports', 'intervention', 'federal', 'reserve', 'bank', 'traders', 'appears', 'group', 'lack', 'ability', 'change', 'long', 'term', 'direction', 'currency', 'markets', '\"', 'maybe', 'they', 'some', 'ideas', ',\"', 'if', 'do', \"'\", 'not', 'evident', '.\"', 'looks', 'like', 'there', 'cure', 'but', 'let', 'free', 'take', 'values', 'should', 'another', 'we', 'force', 'our', 'trading', 'partners', 'stimulate', 'economies', 'measure', 'correct', 'mounting', 'trade', 'deficit', 'i', 'think', 'believe', 'believed', 'time', 'recourse', 'reflate', 'point', 'going', 'tedious', 'what', 'happening', 'he', 'falling', 'makes', 'cheaper', 'foreign', 'buyers', 'stimulating', 'demand', 'same', 'who', 'holding', 'stocks', 'saw', 'investments', 'many', 'turning', 'such', 'precious', 'metals', 'hedge', 'marty', 'mcneill', 'analyst', 'house', 'dominick', 'reaction', 'metal', 'reverberated', 'livestock', 'chicago', 'board', 'attention', 'grain', 'has', 'shifted', 'concern', 'burdensome', 'supplies', 'outlook', 'lower', 'export', 'close', 'agriculture', 'department', 'raised', 'estimate', 'imports', 'soviet', 'union', 'month', 'earlier', 'report', 'live', 'hogs', 'frozen', 'pork', 'bellies', 'sharp', 'mercantile', 'while', 'cattle', 'moderately', 'higher', 'analysts', 'several', 'factors', 'boosted', 'hog', 'prices', 'haven', 't', 'been', 'making', 'weight', 'normal', 'farmers', 'too', 'busy', 'field', 'work', 'animals', 'st', 'gobain', 'issues', 'ecu', 'netherlands', 'guaranteed', 'cie', 'de', 'issuing', '75', 'may', '1992', 'carrying', '4', '1', 'salomon', 'brothers', 'international', 'fees', 'comprise', 'selling', 'concession', 'management', 'underwriting', 'combined', 'listing', 'luxembourg', 'warrant', 'exercisable', 'until', '1990', 'entitling', 'purchase', 'an', 'exercise', '490', 'london', 'morning', 'fix', 'highest', 'since', 'october', 'bullion', 'continued', 'move', 'supported', 'good', 'general', 'fixed', '268', '368', 'stg', 'up', 'friday', '432', '00', 'dealers', 'setting', 'built', 'which', 'based', 'weakness', 'war', 'between', 'united', 'states', 'japan', 'opened', 'slightly', 'firmer', '433', '434', 'moved', 'steadily', 'commission', 'resistance', 'around', '440', 'sentiment', 'still', 'firm', 'rally', 'even', 'high', '500', 'platinum', '583', '578', '580', 'also', 'six', 'killed', 'south', 'african', 'workers', 'four', 'injured', 'undeground', 'rock', 'fall', 'africa', 'second', 'owners', 'third', 'accident', 'country', 'less', 'week', 'thirty', 'died', 'methane', 'gas', 'explosion', 'coal', 'last', 'thursday', 'british', 'articles', 'hallmarked', 'number', 'quarter', 'rose', '11', 'corresponding', 'period', 'figures', 'released', 'assay', 'offices', 'great', 'britain', 'show', 'items', 'ago', 'marked', '832', '222', 'terms', '7', '19', 'grams', 'assayed', 'increase', '95', 'represented', 'rise', 'goods', 'totalled', '698', '132', '78', '457', 'total', '10', '968', 'kilos', 'fell', '785', 'slipped', '9', '849', 'spokesman', 'particularly', 'encouraged', 'see', 'percentage', 'manufactured', 'giant', 'bay', 'gbylf', 'idaho', 'resources', 'signed', 'agreement', 'principle', 'hecla', 'operating', 'stibnite', 'bioleaching', 'technology', 'used', 'processing', 'right', 'acquire', 'working', 'property', 'spend', 'much', 'three', 'excluding', 'capital', 'costs', 'bring', 'into', 'drilling', 'indicated', 'substantial', 'sulphide', 'reserves', 'grade', 'early', 'tests', 'responds', 'homestake', 'hm', 'mulls', 'considering', 'acquiring', 'addition', 'efforts', 'chief', 'executive', 'harry', 'conger', 'told', 'reuters', 'interview', 'looking', 'options', 'rather', 'just', 'adding', 'consider', 'acquisitions', 'represents', 'policy', 'all', 'current', 'cash', 'position', '120', 'would', 'lines', 'totaling', '150', 'drawn', 'could', 'acquisition', 'anticipates', 'budget', '1986', 'spending', '27', '17', 'oil', 'sees', '669', '594', 'however', 'mclaughlin', '45', '400', 'start', 'problems', 'believes', 'hold', 'above', 'dlr', 'level', 'rest', 'earnings', 'average', 'cts', 'share', 'impact', 'declined', 'give', 'specific', 'forecast', 'days', 'full', 'results', 'acquistions', 'renison', 'gc', 'city', 'set', 'png', 'goldfields', 'consolidated', 'rgfj', 'rgc', 'explorer', 'agreed', 're', 'examine', 'bulolo', 'alluvial', 'papua', 'guinea', 'progressively', 'earn', '66', 'prospecting', 'authority', '585', 'covers', 'kina', 'fully', 'exploited', 'past', 'noting', 'literature', 'refers', 'heavy', 'tailings', 'dredging', '1931', '1967', 'produced', 'previous', 'carried', 'out', 'depth', '36', 'metres', 'reported', 'least', 'central', 'part', 'valley', 'possibly', 'deep', '90', 'productive', 'recovered', 'rpt', 'tonne', '207', 'cubic', 'gravel', 'act', 'operator', 'morobe', 'province', 'successful', 'placer', 'development', 'floated', '1926', 'operated', 'ceased', 'northgate', 'quebec', 'end', 'strike', 'hourly', 'paid', 'chibougamau', 'mines', 'voted', 'weekend', 'accept', 'contract', 'offer', 'returned', 'steelworkers', 'america', 'receive', 'hour', 'pay', 'raise', 'over', 'improved', 'benefits', '23', 'slowed', 'forward', 'very', 'satisfactory', 'performance', '81', 'ngx', 'little', 'comex', 'limit', 'removal', 'elimination', 'limits', 'contracts', 'having', 'effect', 'nothing', 'apparent', 'william', 'o', 'neill', 'futures', 'elders', 'inc', 'approached', 'old', 'relative', 'quiet', 'narrow', 'ranges', 'added', 'previously', '25', 'moves', 'back', 'months', 'weaker', 'nearby', 'amid', 'thin', 'conditions', 'did', 'away', 'following', 'spot', 'volatile', 'caused', 'severe', 'disruptions', 'traded', 'down', 'causing', 'rush', 'offset', 'those', 'result', 'confusion', 'unmatched', 'trades', 'large', 'fined', 'other', 'firms', 'failure', 'resolve', 'timely', 'manner', 'add', 'caution', 'any', 'distance', 'amore', 'realistic', 'approach', 'because', 'can', 'without', 'paul', 'cain', 'vice', 'president', 'shearson', 'lehman', 'cut', 'panic', 'contribute', 'orderly', 'daily', 'fluctuations', 'eliminated', 'delivery', 'copper', 'aluminum', 'review', 'clearing', 'operations', 'severely', 'tested', 'announced', 'lifting', 'effective', 'volume', 'limited', 'often', 'allowable', 'concerns', 'rushed', 'unlimited', 'soar', 'volcker', 'rejection', '3rd', 'skyline', 'skx', 'v', 'expects', 'begin', 'july', 'explorations', 'construction', 'next', 'johnny', 'mountain', 'camp', '600', 'miles', 'north', 'vancouver', 'mill', 'receiving', 'cooperation', 'provincial', 'agencies', 'stage', 'approval', 'principal', 'before', 'actual', 'optimistic', 'received', 'late', 'june', 'confirmed', 'threshold', 'tonnage', 'targets', 'so', 'drift', '16', 'vien', 'advanced', '320', 'feet', 'vein', 'continuous', 'averaging', 'thick', 'plus', 'altered', 'mineralized', 'hanging', 'wall', 'periodic', 'face', 'samples', 'indicate', '05', 'ranging', 'low', '55', 'erickson', 'tle', 'buys', 'standard', 'cds', 'purchased', 'interests', 'dome', 'shares', '70', 'companies', 'veins', 'considerable', 'potential', 'usmx', 'commissions', 'pegasus', 'pgul', 'spokane', 'wash', 'officially', 'commissioned', 'zinc', 'producing', 'montana', 'tunnels', 'near', 'helena', 'mont', 'reach', 'august', 'designed', 'projected', 'significant', 'quantities', 'net', 'profit', 'royalty', 'payback', 'gunnar', 'ggg', 'option', 'tyranex', 'tyranite', 'ontario', 'five', 'feasibility', 'studies', 'form', 'partnership', 'commercial', 'raising', 'margins', 'opening', 'official', 'sphinx', 'spnxf', 'finds', 'leased', 'claims', 'alaska', 'revenues', '322', '966', 'range', 'attributed', 'wide', 'estimates', '1984', 'study', 'put', '008', 'yard', 'subsequent', 'proved', 'areas', '027', 'exist', '80', 'northwest', 'fairbanks', 'sweden', 'boliden', 'saudi', 'arabian', 'ab', 'state', 'agency', 'petroleum', 'organisation', 'petromin', 'arabia', 'exploit', 'world', 'richest', 'goran', 'paulson', 'swedish', 'responsible', 'technical', 'side', 'control', 'product', 'itself', 'under', 'discussion', 'refining', 'ship', 'ronnskar', 'smelter', 'figure', 'deal', 'strategically', 'important', 'increased', 'presence', 'representatives', 'visited', 'already', '...', 'area', 'future', 'being', 'developed', 'mahd', 'adh', 'dhahab', 'west', 'half', 'output', 'smelted', 'owns', 'modern', 'times', 'breakthrough', 'sales', 'knowhow', 'kjell', 'nilsson', 'arizona', 'asc', 'burro', 'creek', 'diamond', '65', 'southeast', 'kingman', 'ariz', 'begun', '800', 'acres', 'mineralization', 'drill', 'sites', 'established', 'consisting', 'initial', 'began', '13', 'black', 'miners', 'km', 'underground', 'sunday', 'rand', 'properties', '>,', 'big', 'occurred', 'saturday', 'proprietary', 'boksburg', 'johannesburg', 'elaborate', 'canamax', 'pacific', 'trans', 'ocean', 'approve', 'conditionally', 'approved', 'starting', 'jointly', 'ketza', 'yukon', 'recommended', 'conditional', 'water', 'license', 'arrangement', 'appropriate', 'financing', 'including', 'anticipated', '49', '129', 'yield', 'tax', 'real', 'rate', 'return', '460', 'proven', 'probable', 'mineable', 'oxide', 'grading', 'yearly', '112', 'years', 'possible', '38', 'break', 'zone', 'extend', 'pgulf', 'starts', 'milling', 'started', 'ahead', 'schedule', 'original', '57', 'came', '51', '106', '700', '26', 'basis', '300', 'talking', 'american', 'benefiting', 'tug', 'speculators', 'banks', 'game', 'gone', 'john', 'ing', 'maison', 'placements', 'remained', 'post', 'ii', 'lows', 'against', 'japanese', 'yen', 'drop', 'means', 'uncertainty', 'traditional', 'noted', 'richard', 'cohen', 'brown', 'baldwin', 'nisker', 'lot', 'investors', 'dollars', 'losing', 'money', 'decline', 'inflationary', 'implications', 'predicts', 'peak', '510', '416', '425', 'michael', 'pickens', 'yorkton', 'securities', 'puts', 'spike', 'risen', 'far', 'faster', 'among', 'correction', 'lies', 'somewhere', 'now', 'sign', 'pressure', 'slowing', 'run', 'incredible', 'asa', '61', 'campbell', 'red', 'lake', 'crk', 'newmont', 'ngc', '31', 'toronto', 'stock', 'index', 'points', '8067', 'hemlo', 'gained', 'lac', '41', '43', 'lacana', '18', 'pointed', 'tse', 'december', 'golds', 'performing', 'chasing', 'few', 'investing', 'institutions', 'pension', 'funds', 'insurance', 'excess', 'through', 'indicates', 'small', 'entering', 'ratio', 'peru', 'says', 'worth', 'billion', 'alan', 'garcia', 'found', 'jungle', 'region', 'ecuadorean', 'border', 'here', 'reporters', 'town', 'san', 'ignasio', 'contained', 'equivalent', 'government', 'soon', 'install', 'tomaque', 'extract', 'enough', 'provide', 'tamborapa', 'pachapidiana', 'cenepa', 'santiago', 'rivers', 'intersects', 'doyon', 'cambior', 'completed', 'hole', 'showed', 'intersections', 'intersection', 'graded', '33', '44', '411', '064', 'march', 'announces', 'find', 'yesterday', 'detected', 'drilled', 'cornucopia', 'extensive', 'sampling', 'ivanhoe', 'nevada', 'seek', 'present', 'eight', 'usx', 'x', 'portion', ',.', 'acre', 'determine', 'location', 'zones', 'test', 'ccimf', 'sell', 'stake', 'southwest', 'buyer', 'name', 'preliminary', 'geological', 'meters', 'middle', 'containing', 'subject', 'prefeasibility', 'transaction', 'regulatory', 'shareholder', 'approvals', 'controlled', 'echo', 'discovery', 'discovered', 'cove', 'mccoy', 'encountered', '39', '42', 'holes', 'averaged', '185', '118', 'thickness', 'beneath', 'overburden', 'mile', 'northeast', 'heap', '85', 'eco', 'proposed', 'dampen', 'tokyo', 'transactions', 'damper', 'encourage', 'shift', 'hong', 'kong', 'singapore', 'senior', 'branch', 'hofer', 'press', 'conference', 'you', 'impose', 'both', 'participants', 'business', 'create', 'spread', 'unable', 'compete', 'how', 'really', 'taxes', 'system', 'prohibitive', 'generating', '?\"', 'imposes', 'physical', 'exceeding', '37', 'jewellery', 'coins', 'imposed', 'apply', 'paper', 'bars', 'well', '1982', 'switzerland', 'turnover', 'jan', '1980', 'abolished', 'oct', 'compared', '1978', '1979', 'imposition', 'decreased', 'outside', 'importer', 'imported', 'bought', 'minting', 'commemorate', '60th', 'emperor', 'hirohito', 'reign', 'dominated', 'mainly', 'participant', 'amounts', 'us', 'concerned', 'fact', 'growing', 'becoming', 'financial', 'my', 'personal', 'opinion', 'mistake', 'positive', 'growth', 'developments', 'imposing', 'don', 'fits', 'philosophy', 'internationalising', 'houses', 'attending', 'call', 'climate', 'improving', 'montagu', 'renewed', 'switching', 'brokers', 'samuel', 'weak', 'felt', 'fairly', 'cheap', 'monthly', 'newsletter', 'narrowed', '74', '67', 'supply', 'surplus', 'quantity', 'modest', 'absorbed', 'firmness', 'likely', 'continue', 'consolidation', 'might', 'necessary', 'attempted', 'significantly', 'remains', 'then', 'outpace', 'margin', 'action', 'ends', 'owner', 'anglo', 'angl', 'j', 'wednesday', 'when', 'thousands', 'staged', 'go', 'slow', 'shaft', 'geduld', 'division', 'fscn', '>.', 'later', 'escalated', 'sit', 'prompting', 'affected', 'described', 'creation', 'unsafe', 'kingsley', 'jones', 'held', 'talks', 'national', 'mineworkers', 'num', '),', 'biggest', 'membership', '360', 'failed', 'cause', 'worker', 'dissatisfaction', 'acknowledged', 'suffered', 'loss', '104', '28', 'shafts', 'comment', 'association', 'locked', 'staging', 'protest', 'ordered', 'carry', 'bags', 'explosives', 'food', 'white', 'cbt', 'financials', 'locations', 'deliveries', 'scheduled', 'baord', '392', 'lots', 'illinois', 'kilo', 'cch', 'meston', 'sets', 'joe', 'mann', 'chibougamu', 'improve', 'throughput', '221', '910', '211', 'able', 'develop', 'substantially', 'greater', 'below', 'intersected', 'main', 'bottom', '530', 'true', 'width', 'drillhole', 'boundary', 'respectively', '708', '650', '706', '765', '418', 'foot', 'surface', 'farther', '068', 'asamera', 'asm', 'transfer', 'wholly', 'subsidiary', 'public', 'include', 'cannon', 'wenatchee', '116', '514', '130', '140', 'breakwater', 'bwrlf', 'merger', 'terminated', 'separate', 'better', 'direct', 'recognition', 'assets', 'prospects', 'inyo', 'county', 'calif', 'territories', 'gooseberry', 'chromite', 'california', 'newfoundland', 'prospect', 'rankin', 'inlet', '244', '900', '749', 'november', 'interior', 'bureau', '692', 'vs', '011', '754', '611', '811', '1985', 'exports', 'totaled', '243', '191', '374', '468', '350', '078', 'dec', '951', '151', '475', '447', '225', '999', 'stood', '612', '919', '678', 'respective', 'periods', '172', '56', 'february', 'valued', '757', 'versus', '59', 'content', '64', 'bills', 'zero', '105', '69', '02', 'liabilities', '62', 'syngold', 'defines', 'deka', 'falconbridge', 'defined', 'undiluted', '911', 'noranda', '20', 'suface', '250', 'centers', 'donalda', 'contains', '48', 'vertical', '1200', 'length', 'recalculated', 'earned', 'westmin', 'myra', 'falls', 'columbia', 'base', 'complex', 'scale', 'processed', '257', '266', 'lbs', '96', '777', 'pounds', '141', '077', '63', '462', 'launched', 'ensure', '653', 'estimating', '627', '265', 'reagan', 'remarks', 'help', 'recover', 'ronald', 'arms', 'hostages', 'iran', '409', '408', 'compares', '410', 'mild', 'covering', 'partly', 'owed', 'activities', 'lived', 'bullish', 'stabilising', '805', 'h', 'k', 'tael', '778', 'bhp', 'float', 'broken', 'hill', 'pty', 'brkn', 'renounceable', 'rights', 'bhpgm', 'cent', '430', 'subscribe', 'remaining', '540', 'issued', 'ok', 'tedi', 'utah', 'made', 'shareholders', 'registered', 'opens', 'closes', '29', 'underwritten', 'b', 'son', 'australian', 'exchanges', 'quoted', 'larger', 'producers', '170', 'boost', '1990s', 'portfolio', '--', 'telfer', 'ora', 'banda', 'browns', 'boddington', 'coronation', 'gympie', 'queensland', 'chairman', 'designate', 'gough', 'quality', 'diversity', 'sound', 'foundation', 'exciting', 'belgian', 'coin', 'sale', 'date', 'ecus', 'ministry', 'sold', 'these', 'hundreds', 'minted', 'abroad', 'ever', 'denominated', 'basket', 'comprised', 'nation', 'european', 'community', 'currencies', 'except', 'spanish', 'peseta', 'portuguese', 'escudo', 'mark', '30th', 'anniversary', 'ec', 'founding', 'treaty', 'rome', 'minister', 'eyskens', 'currently', 'presides', 'council', 'ministers', 'called', 'political', 'symbolic', 'aimed', 'make', 'goal', 'monetary', 'integration', 'concrete', 'legal', 'tender', 'come', 'collectors', 'managers', 'charges', 'disaster', 'employees', 'kinross', 'culpable', 'homicide', '177', 'attorney', 'office', 'september', 'fire', 'off', 'toxic', 'fumes', 'suffocated', 'accused', 'alternative', 'breaking', 'safety', 'regulations', 'works', 'case', 'probably', 'heard', 'witbank', 'regional', 'court', 'gordon', 'metallurgical', 'overall', 'recovery', 'achieved', 'either', 'cyanidation', 'flotation', 'followed', 'concentrate', 'continuation', 'extending', 'existing', 'along', 'ssmc', 'double', '458', '050', 'pioneer', 'piog', 'gets', 'land', 'teberebie', 'granted', 'additional', 'ghana', 'look', '14', 'square', 'kilometers', 'contiguous', 'amount', 'material', 'metric', 'extracting', 'assurances', 'given', 'mined', 'profitably', 'conducted', 'newly', 'seems', 'similar', 'characteristics', 'technigen', 'm', 'nicel', 'rouyn', 'highly', 'enriched', 'palladium', 'rocks', 'periphery', '073', '206', 'nickel', 'section', 'hopes', 'misima', 'submission', 'environmental', 'plan', 'port', 'moresby', 'completes', 'documentation', 'gain', 'proceed', 'epithermal', 'eastern', 'island', 'southeastern', 'coast', '35', 'continuing', 'takeover', 'roared', 'proposal', 'seize', 'uranium', 'refuse', 'migrant', 'attended', 'endorse', 'meeting', 'strong', ').', 'refused', 'negotiations', 'surrounding', 'countries', 'labour', 'stated', 'leaders', 'demanded', 'single', 'sex', 'hostels', 'replaced', 'housing', 'schemes', 'families', 'crowd', 'attend', 'declared', 'emergency', 'shouted', 'closely', 'anti', 'apartheid', 'movements', 'democratic', 'front', 'udf', 'members', 'jailed', 'nationalist', 'leader', 'nelson', 'mandela', 'china', 'heilongjiang', 'boosts', 'news', 'gave', 'producer', 'shandong', 'does', 'publish', 'industry', 'deficits', 'diplomats', 'carolin', 'assays', 'hope', 'ranged', 'trace', 'sharply', 'disagreed', 'performed', 'intergold', 'within', 'weeks', 'crlnf', 'sjg', 'golden', 'patricia', 'northwestern', 'spent', 'obtain', 'permits', 'complete', 'construct', 'infrastructure', 'needed', 'ending', 'contain', '192', '293', '88', 'adjacent', 'muskeg', 'richmond', 'carbonate', 'district', 'dakota', 'shown', '055', 'encouraging', 'nearing', 'sigma', 'dm', '902', '940', '139', '640', '779', '163', '262', '161', '127', 'changed', 'reporting', 'method', 'adopt', 'practice', 'conservatively', '978', '194', 'mint', 'britannia', 'autumn', 'carat', 'together', 'smaller', 'denominations', 'treasury', 'investment', 'worldwide', 'fluctuate', 'according', 'tenth', 'reuter', 'franco', 'related', 'barrick', 'goldstrike', 'carlin', 'nine', 'sulfide', 'continuously', '730', 'announcement', 'bh', 'norgold', 'nbha', 'me', 'nbh', 'every', 'created', 'offshoot', 'offered', '240', '89', 'pre', 'acquired', 'bottle', 'leonora', 'poona', 'wales', 'tasmania', 'premium', 'competitive', 'levied', 'purchases', 'although', 'rated', 'decision', 'yet', 'taken', 'especially', 'maple', 'elsewhere', 'attempt', 'place', 'krugerrand', 'feels', 'gap', 'sovereign', '2354', 'difficult', 'ascertain', 'origins', 'involved', 'unlikely', 'enquiries', 'prove', 'success', 'leaf', 'eagle', 'tvx', 'brazil', 'stakes', 'immediate', 'enhance', 'flow', 'cmp', 'holds', 'novo', 'astro', 'private', 'teles', 'pires', 'increasing', 'ownership', '160', 'operates', 'amapa', 'hardrock', 'quartz', 'eluvial', 'controls', 'kilometer', 'dredge', 'cabinet', 'approves', 'bill', 'easier', 'commemorative', 'must', 'parliament', 'special', 'legislation', 'need', 'law', 'haiti', 'rich', 'grand', 'bois', 'capable', '666', 'thought', 'equipment', 'haitian', 'never', 'recently', 'lists', 'morne', 'bossa', '1971', 'sedren', 'gonaives', 'former', 'everything', 'else', 'catch', 'extracted', 'someone', 'asked', 'named', 'amax', 'amx', 'incx', 'identified', 'sleeper', 'winnemucca', 'nev', '..', 'thhe', '470', 'treatable', 'techniques', 'amenable', 'leaching', '025', 'dowa', 'nurukawa', 'consist', 'consists', 'ores', 'survey', 'shows', 'german', 'pressures', 'hamburg', 'vereins', 'und', 'westbank', 'ag', 'stabilisation', 'crude', 'exporting', 'achieve', 'firming', 'led', 'germany', 'exceed', 'gross', 'products', 'use', 'speculative', 'influences', 'unstable', 'situation', 'temporary', 'reduction', 'underline', '73', 'underscore', 'went', 'grootvlei', 'colleagues', 'different', 'jobs', 'vaal', 'colliery', 'downed', 'tools', 'reason', 'stoppage', 'clear', 'trying', 'levon', 'lvnvf', 'checked', 'howard', 'tunnel', 'congress', 'yielded', 'grades', 'january', '809', '226', '693', '123', 'revised', 'averages', '545', '103', '302', '531', 'across', '87', 'bp', 'proceeding', 'plc', 'ridgeway', 'carolina', 'approximate', '158', '1989', '133', 'partner', 'galactic', 'galcf', 'receipt', 'statutory', 'finalization', 'arrangements', 'facility', '76', 'approximately', 'starrex', 'links', 'speculation', 'favorable', 'star', 'saskatchewan', 'conclusions', 'disclose', 'check', 'viceroy', 'resource', 'lesley', 'ann', 'extended', 'interval', 'inspiration', 'irc', 'manitoba', 'lynn', '538', '212', '686', '166', '355', '183', 'morgan', 'guaranty', 'trust', '955', 'entitled', 'holders', '1991', 'wednesdays', 'unsecured', 'unsubordinated', 'borrower', 'quotation', 'bourse', 'planned', 'exercised', 'repaid', 'represent', '145', 'pricing', 'implicit', 'volatility', 'indosuez', 'citibank', 'maturities', 'expect', 'barring', 'disruption', 'dropping', '223', '251', 'clive', 'knobbs', 'expenditure', 'milled', 'strikes', 'monday', 'own', 'resumed', 'protesting', 'genm', 'tuesday', 'struck', 'alleged', 'refusal', 'homeland', 'transkei', 'funeral', 'influence', 'again', 'reassert', 'bankers', 'lag', 'reactions', 'opec', 'address', 'worrying', 'balance', 'cautiously', 'economy', 'noticeable', 'improvement', 'latin', 'debt', 'iranian', 'affair', 'undermine', 'confidence', 'korea', 'resurrect', 'repay', 'pyongyang', 'korean', 'businessmen', 'goldmine', 'almost', 'li', 'sangsu', 'unzan', 'aims', 'decade', '1896', 'virtually', 'untapped', '94', 'yields', 'done', 'antiquated', 'methods', 'basic', 'scheme', 'series', 'debts', 'creditors', 'tried', 'fish', 'emerges', 'emerged', 'vehicle', 'brings', 'play', 'varying', 'drawing', 'worries', 'boston', 'character', 'though', 'professional', 'meets', 'predicted', 'lively', 'andrew', 'barrett', 'citicorp', ':', 'chance', 'risk', 'issuer', 'cases', 'na', 'idea', 'quick', 'copies', 'goldman', 'sachs', 'organized', 'banque', 'night', 'striking', 'underlying', 'premiums', 'longer', 'traced', 'consumer', 'jump', 'threat', 'people', 'worried', 'mats', 'joensson', 'grown', 'strongly', 'want', 'ride', 'seen', 'languished', 'leveraged', 'downside', 'natural', 'understand', 'pioneered', 'equity', 'linked', 'covered', 'bid', 'otherwise', 'citizens', 'leverage', 'dried', 'peaks', 'marketed', 'simple', 'models', 'devised', 'scientific', 'comparisons', 'titles', 'martin', 'bachem', 'his', 'relatively', 'nearly', 'using', 'sholes', 'model', 'meant', 'claimed', 'variant', 'volatily', 'emphasized', 'best', 'inexact', 'science', 'whatever', 'calculation', 'warm', 'welcome', 'apiece', 'sophisticated', 'ones', 'wouldn', 'murgold', 'mgdvf', 'drifting', 'chester', 'township', 'timmins', '528', '422', 'eastward', 'geodome', 'goedf', 'raytheon', 'rtn', 'stearns', 'catalytic', 'stripping', 'sunbeam', 'custer', 'quickly', '626', 'rapid', 'calls', '99', 'miune', 'miner', 'associated', 'summer', 'included', 'calculations', '046', 'excluded', '201', '171', 'constant', 'houston', 'phase', 'rehabilitation', 'bulk', 'queen', 'representative', 'ft', 'levels', '08', '79', '92', 'oz', '062', 'germanium', '93', 'gallium', 'weighted', '375', '237', '91', 'parallel', 'structure', 'feasability', 'recoveries', 'indium', '82', 'evaluation', 'provided', 'fund', 'sponsored', 'merrill', 'lynch', 'dominion', 'contruction', 'rapidly', 'yards', 'pits', 'dillution', '77', '026', 'shore', 'suspend', 'kirkland', 'pending', 'affect', 'crown', 'pillar', '71', '1983', 'warranted', 'executives', 'arrested', 'prosecutors', 'police', 'bankrupt', 'defrauding', 'clients', 'delivered', 'involving', 'toyota', 'shoji', 'highlighted', '32', 'kazuo', 'nagano', 'stabbed', 'death', 'view', 'television', 'crews', 'waiting', 'home', 'filmed', 'men', 'smashing', 'emerging', 'bloodstained', 'bayonet', '1981', 'undertook', 'grew', 'nationwide', 'collected', 'them', 'pensioners', 'housewives', 'lawyers', 'get', 'neither', 'suffering', 'aggregate', 'charge', 'fraud', 'hiroshi', 'ishikawa', '47', 'sixth', 'placed', 'wanted', 'list', 'suspected', 'collaborated', 'swindling', 'osaka', 'kobe', 'bankruptcy', 'arrest', 'narly', 'investigation', 'questioned', 'build', 'extraction', 'amselco', 'nerco', 'carbon', 'microscopic', 'alligator', 'ridge', 'ely', 'chemical', 'residual', 'economically', 'ner', 'pacificorp', 'ppw', 'portland', 'exhausted', 'reduced', '72', 'record', 'exceptional', 'profits', 'reaching', 'chamber', '108', 'increases', 'expenditures', 'comparatively', 'buoyant', 'allowed', 'practise', 'characterised', '09', '638', '671', 'hl', 'greens', 'body', 'admiralty', 'assaying', 'trackless', 'domestic', 'lowest', 'preproduction', 'funded', 'internally', 'generated', 'retain', 'majority', 'csx', 'exaias', 'tomorrow', 'calculated', 'fixing', 'celebrate', 'gram', 'fine', 'corrected', 'minging', 'corrects', 'd', 'val', 'order', 'surfrace', 'downdip', 'extension', 'projection', 'seventh', '820', 'contributions', 'canty', 'mascot', 'fraction', 'plate', 'intervals', '342', '97', '756', '187', '190', 'bell', 'expanding', 'undertake', 'acm', 'murchison', 'goldfield', 'perth', 'founded', '1904', '1937', '1955', 'concentration', 'accessible', 'obliged', '577', '474', 'nem', '2nd', 'investor', 'peter', 'witte', 'westdeutsche', 'landesbank', 'girozentrale', 'presentation', 'promote', 'depend', 'positioned', 'rises', 'once', 'breaks', 'wane', 'rallies', 'waver', 'hermann', 'strohmeyer', 'commerzbank', 'poised', '380', '390', 'target', 'donna', 'pope', 'journalists', 'reached', '193', 'roughly', 'europe', 'asia', 'she', 'introduction', 'aiming', 'preserve', 'publicity', 'uses', 'facing', 'competition', 'lesser', 'extent', 'distorted', 'escape', '906', 'marks']\n",
            "Running Truncated SVD over 2830 words...\n",
            "Done.\n"
          ]
        },
        {
          "output_type": "display_data",
          "data": {
            "text/plain": [
              "<Figure size 1000x500 with 1 Axes>"
            ],
            "image/png": "[encoded data removed]"
          },
          "metadata": {}
        }
      ],
      "source": [
        "# -----------------------------\n",
        "# Run This Cell to Produce Your Plot\n",
        "# ------------------------------\n",
        "reuters_corpus = read_corpus()\n",
        "M_co_occurrence, word2ind_co_occurrence = compute_co_occurrence_matrix(reuters_corpus)\n",
        "M_reduced_co_occurrence = reduce_to_k_dim(M_co_occurrence, k=2)\n",
        "\n",
        "# Rescale (normalize) the rows to make them each of unit-length\n",
        "M_lengths = np.linalg.norm(M_reduced_co_occurrence, axis=1)\n",
        "M_normalized = M_reduced_co_occurrence / M_lengths[:, np.newaxis] # broadcasting\n",
        "\n",
        "words = ['value', 'gold', 'platinum', 'reserves', 'silver', 'metals', 'copper', 'belgium', 'australia', 'china', 'grammes', \"mine\"]\n",
        "\n",
        "plot_embeddings(M_normalized, word2ind_co_occurrence, words)"
      ]
    },
    {
      "cell_type": "markdown",
      "metadata": {
        "id": "RtOd40JTSSuE"
      },
      "source": [
        "**Verify that your figure matches \"question_1.5.png\" in the assignment zip. If not, use that figure to answer the next two questions.**"
      ]
    },
    {
      "cell_type": "markdown",
      "metadata": {
        "id": "ciXWGMvRSSuE"
      },
      "source": [
        "a. Find at least two groups of words that cluster together in 2-dimensional embedding space. Give an explanation for each cluster you observe."
      ]
    },
    {
      "cell_type": "markdown",
      "metadata": {
        "id": "fLU7o3HESSuF"
      },
      "source": [
        "### SOLUTION BEGIN\n",
        "Group A\n",
        "<ul>\n",
        "  <li>Copper\n",
        "  <li>platium\n",
        "  <li>silver\n",
        "  <li>gold\n",
        "</ul>\n",
        "Group B\n",
        "<ul>\n",
        "  <li>china\n",
        "  <li>belgium\n",
        "</ul>\n",
        "I think as it is 2D visualization of things it might be inaccuracte, as China, Belgium and Australia should have form a group\n",
        "\n",
        "### SOLUTION END\n"
      ]
    },
    {
      "cell_type": "markdown",
      "metadata": {
        "id": "3H-tyA9RSSuF"
      },
      "source": [
        "b. What doesn't cluster together that you might think should have? Describe at least two examples."
      ]
    },
    {
      "cell_type": "markdown",
      "metadata": {
        "id": "3NG2j9J4SSuG"
      },
      "source": [
        "### SOLUTION BEGIN\n",
        "First, all the country should have be closer than ther are here and also metal, mine and other minerals should have been closer too. We add most dimesionaity to our word embeddings, so they come closer than they are now.\n",
        "### SOLUTION END"
      ]
    },
    {
      "cell_type": "markdown",
      "metadata": {
        "id": "_h0OzAaRSSuI"
      },
      "source": [
        "## Part 2: Prediction-Based Word Vectors (15 points)\n",
        "\n",
        "As discussed in class, more recently prediction-based word vectors have demonstrated better performance, such as word2vec and GloVe (which also utilizes the benefit of counts). Here, we shall explore the embeddings produced by GloVe. Please revisit the class notes and lecture slides for more details on the word2vec and GloVe algorithms. If you're feeling adventurous, challenge yourself and try reading [GloVe's original paper](https://nlp.stanford.edu/pubs/glove.pdf).\n",
        "\n",
        "Then run the following cells to load the GloVe vectors into memory. **Note**: If this is your first time to run these cells, i.e. download the embedding model, it will take a couple minutes to run. If you've run these cells before, rerunning them will load the model without redownloading it, which will take about 1 to 2 minutes."
      ]
    },
    {
      "cell_type": "code",
      "execution_count": 62,
      "metadata": {
        "id": "l3kwvdksSSuI"
      },
      "outputs": [],
      "source": [
        "def load_embedding_model():\n",
        "    \"\"\" Load GloVe Vectors\n",
        "        Return:\n",
        "            wv_from_bin: All 400000 embeddings, each lengh 200\n",
        "    \"\"\"\n",
        "    import gensim.downloader as api\n",
        "    wv_from_bin = api.load(\"glove-wiki-gigaword-200\")\n",
        "    print(\"Loaded vocab size %i\" % len(list(wv_from_bin.index_to_key)))\n",
        "    return wv_from_bin"
      ]
    },
    {
      "cell_type": "code",
      "execution_count": 63,
      "metadata": {
        "id": "JCvVlSLZSSuJ",
        "scrolled": true,
        "colab": {
          "base_uri": "https://localhost:8080/"
        },
        "outputId": "8e14e5d9-1a16-4868-f0e1-588fdd059145"
      },
      "outputs": [
        {
          "output_type": "stream",
          "name": "stdout",
          "text": [
            "[==================================================] 100.0% 252.1/252.1MB downloaded\n",
            "Loaded vocab size 400000\n"
          ]
        }
      ],
      "source": [
        "# -----------------------------------\n",
        "# Run Cell to Load Word Vectors\n",
        "# Note: This will take a couple minutes\n",
        "# -----------------------------------\n",
        "wv_from_bin = load_embedding_model()"
      ]
    },
    {
      "cell_type": "markdown",
      "metadata": {
        "id": "egIeG1RTSSuK"
      },
      "source": [
        "#### Note: If you are receiving a \"reset by peer\" error, rerun the cell to restart the download. If you run into an \"attribute\" error, you may need to update to the most recent version of gensim and numpy. You can upgrade them inline by uncommenting and running the below cell:"
      ]
    },
    {
      "cell_type": "code",
      "execution_count": 64,
      "metadata": {
        "id": "ZlF5fxSXcq95"
      },
      "outputs": [],
      "source": [
        "#!pip install gensim --upgrade\n",
        "#!pip install numpy --upgrade"
      ]
    },
    {
      "cell_type": "markdown",
      "metadata": {
        "id": "rH9gWJWpSSuL"
      },
      "source": [
        "### Reducing dimensionality of Word Embeddings\n",
        "Let's directly compare the GloVe embeddings to those of the co-occurrence matrix. In order to avoid running out of memory, we will work with a sample of 10000 GloVe vectors instead.\n",
        "Run the following cells to:\n",
        "\n",
        "1. Put 10000 Glove vectors into a matrix M\n",
        "2. Run `reduce_to_k_dim` (your Truncated SVD function) to reduce the vectors from 200-dimensional to 2-dimensional."
      ]
    },
    {
      "cell_type": "code",
      "execution_count": 65,
      "metadata": {
        "id": "0PROUu_-SSuL"
      },
      "outputs": [],
      "source": [
        "def get_matrix_of_vectors(wv_from_bin, required_words):\n",
        "    \"\"\" Put the GloVe vectors into a matrix M.\n",
        "        Param:\n",
        "            wv_from_bin: KeyedVectors object; the 400000 GloVe vectors loaded from file\n",
        "        Return:\n",
        "            M: numpy matrix shape (num words, 200) containing the vectors\n",
        "            word2ind: dictionary mapping each word to its row number in M\n",
        "    \"\"\"\n",
        "    import random\n",
        "    words = list(wv_from_bin.index_to_key)\n",
        "    print(\"Shuffling words ...\")\n",
        "    random.seed(225)\n",
        "    random.shuffle(words)\n",
        "    words = words[:10000]\n",
        "    print(\"Putting %i words into word2ind and matrix M...\" % len(words))\n",
        "    word2ind = {}\n",
        "    M = []\n",
        "    curInd = 0\n",
        "    for w in words:\n",
        "        try:\n",
        "            M.append(wv_from_bin.get_vector(w))\n",
        "            word2ind[w] = curInd\n",
        "            curInd += 1\n",
        "        except KeyError:\n",
        "            continue\n",
        "    for w in required_words:\n",
        "        if w in words:\n",
        "            continue\n",
        "        try:\n",
        "            M.append(wv_from_bin.get_vector(w))\n",
        "            word2ind[w] = curInd\n",
        "            curInd += 1\n",
        "        except KeyError:\n",
        "            continue\n",
        "    M = np.stack(M)\n",
        "    print(\"Done.\")\n",
        "    return M, word2ind"
      ]
    },
    {
      "cell_type": "code",
      "execution_count": 66,
      "metadata": {
        "id": "cpgM0M-hSSuM",
        "colab": {
          "base_uri": "https://localhost:8080/"
        },
        "outputId": "34878abb-b2f4-4a3d-fca1-5aaa56c3de78"
      },
      "outputs": [
        {
          "output_type": "stream",
          "name": "stdout",
          "text": [
            "Shuffling words ...\n",
            "Putting 10000 words into word2ind and matrix M...\n",
            "Done.\n",
            "Running Truncated SVD over 10012 words...\n",
            "Done.\n"
          ]
        }
      ],
      "source": [
        "# -----------------------------------------------------------------\n",
        "# Run Cell to Reduce 200-Dimensional Word Embeddings to k Dimensions\n",
        "# Note: This should be quick to run\n",
        "# -----------------------------------------------------------------\n",
        "M, word2ind = get_matrix_of_vectors(wv_from_bin, words)\n",
        "M_reduced = reduce_to_k_dim(M, k=2)\n",
        "\n",
        "# Rescale (normalize) the rows to make them each of unit-length\n",
        "M_lengths = np.linalg.norm(M_reduced, axis=1)\n",
        "M_reduced_normalized = M_reduced / M_lengths[:, np.newaxis] # broadcasting"
      ]
    },
    {
      "cell_type": "markdown",
      "metadata": {
        "id": "8_46FYMJSSuN"
      },
      "source": [
        "**Note: If you are receiving out of memory issues on your local machine, try closing other applications to free more memory on your device. You may want to try restarting your machine so that you can free up extra memory. Then immediately run the jupyter notebook and see if you can load the word vectors properly. If you still have problems with loading the embeddings onto your local machine after this, please go to office hours or contact course staff.**"
      ]
    },
    {
      "cell_type": "markdown",
      "metadata": {
        "id": "zAFrU8ahSSuO"
      },
      "source": [
        "### Question 2.1: GloVe Plot Analysis [written] (3 points)\n",
        "\n",
        "Run the cell below to plot the 2D GloVe embeddings for `['value', 'gold', 'platinum', 'reserves', 'silver', 'metals', 'copper', 'belgium', 'australia', 'china', 'grammes', \"mine\"]`."
      ]
    },
    {
      "cell_type": "code",
      "execution_count": 67,
      "metadata": {
        "id": "9kHRkjz6SSuO",
        "scrolled": true,
        "colab": {
          "base_uri": "https://localhost:8080/",
          "height": 447
        },
        "outputId": "27001303-be10-4d16-bfae-26ebc84bd845"
      },
      "outputs": [
        {
          "output_type": "display_data",
          "data": {
            "text/plain": [
              "<Figure size 1000x500 with 1 Axes>"
            ],
            "image/png": "[encoded data removed]"
          },
          "metadata": {}
        }
      ],
      "source": [
        "words = ['value', 'gold', 'platinum', 'reserves', 'silver', 'metals', 'copper', 'belgium', 'australia', 'china', 'grammes', \"mine\"]\n",
        "\n",
        "plot_embeddings(M_reduced_normalized, word2ind, words)"
      ]
    },
    {
      "cell_type": "markdown",
      "metadata": {
        "id": "eOnrMZkzSSuP"
      },
      "source": [
        "a. What is one way the plot is different from the one generated earlier from the co-occurrence matrix? What is one way it's similar?"
      ]
    },
    {
      "cell_type": "markdown",
      "metadata": {
        "id": "5KC4PTQoSSuQ"
      },
      "source": [
        "### SOLUTION BEGIN\n",
        "It has done great for categorical values but seems to put space between words that are occuring less.\n",
        "### SOLUTION END"
      ]
    },
    {
      "cell_type": "markdown",
      "metadata": {
        "id": "bNDY5puZSSuQ"
      },
      "source": [
        "b. What is a possible cause for the difference?"
      ]
    },
    {
      "cell_type": "markdown",
      "metadata": {
        "id": "o-cWAvi8SSuR"
      },
      "source": [
        "### SOLUTION BEGIN\n",
        "Word count, causes grammes is very less occuring but the word gram might more occur for measuring minerals as show in above graph\n",
        "### SOLUTION END"
      ]
    },
    {
      "cell_type": "markdown",
      "metadata": {
        "id": "nA8oIbjjSSuS"
      },
      "source": [
        "### Cosine Similarity\n",
        "Now that we have word vectors, we need a way to quantify the similarity between individual words, according to these vectors. One such metric is cosine-similarity. We will be using this to find words that are \"close\" and \"far\" from one another.\n",
        "\n",
        "We can think of n-dimensional vectors as points in n-dimensional space. If we take this perspective [L1](http://mathworld.wolfram.com/L1-Norm.html) and [L2](http://mathworld.wolfram.com/L2-Norm.html) Distances help quantify the amount of space \"we must travel\" to get between these two points. Another approach is to examine the angle between two vectors. From trigonometry we know that:\n",
        "\n",
        "<img src=\"./imgs/inner_product.png\" width=20% style=\"float: center;\"></img>\n",
        "\n",
        "Instead of computing the actual angle, we can leave the similarity in terms of $similarity = cos(\\Theta)$. Formally the [Cosine Similarity](https://en.wikipedia.org/wiki/Cosine_similarity) $s$ between two vectors $p$ and $q$ is defined as:\n",
        "\n",
        "$$s = \\frac{p \\cdot q}{||p|| ||q||}, \\textrm{ where } s \\in [-1, 1] $$"
      ]
    },
    {
      "cell_type": "markdown",
      "metadata": {
        "id": "sFfCOLUsSSuS"
      },
      "source": [
        "### Question 2.2: Words with Multiple Meanings (1.5 points) [code + written]\n",
        "Polysemes and homonyms are words that have more than one meaning (see this [wiki page](https://en.wikipedia.org/wiki/Polysemy) to learn more about the difference between polysemes and homonyms ). Find a word with *at least two different meanings* such that the top-10 most similar words (according to cosine similarity) contain related words from *both* meanings. For example, \"leaves\" has both \"go_away\" and \"a_structure_of_a_plant\" meaning in the top 10, and \"scoop\" has both \"handed_waffle_cone\" and \"lowdown\". You will probably need to try several polysemous or homonymic words before you find one.\n",
        "\n",
        "Please state the word you discover and the multiple meanings that occur in the top 10. Why do you think many of the polysemous or homonymic words you tried didn't work (i.e. the top-10 most similar words only contain **one** of the meanings of the words)?\n",
        "\n",
        "**Note**: You should use the `wv_from_bin.most_similar(word)` function to get the top 10 similar words. This function ranks all other words in the vocabulary with respect to their cosine similarity to the given word. For further assistance, please check the __[GenSim documentation](https://radimrehurek.com/gensim/models/keyedvectors.html#gensim.models.keyedvectors.FastTextKeyedVectors.most_similar)__."
      ]
    },
    {
      "cell_type": "code",
      "execution_count": 74,
      "metadata": {
        "id": "ZAr09U-xSSuT",
        "colab": {
          "base_uri": "https://localhost:8080/"
        },
        "outputId": "f9c9da7f-22e3-4e9d-9381-8c939bc6d8cb"
      },
      "outputs": [
        {
          "output_type": "stream",
          "name": "stdout",
          "text": [
            "[('ends', 0.6128067970275879), ('leaf', 0.6027014255523682), ('stems', 0.5998532176017761), ('takes', 0.5902854204177856), ('leaving', 0.5761634707450867), ('grows', 0.5663397312164307), ('flowers', 0.5600922107696533), ('turns', 0.5536050796508789), ('leave', 0.5496848821640015), ('goes', 0.5434925556182861)]\n",
            "[('woman', 0.7520086765289307), ('person', 0.6917079091072083), ('another', 0.6866576075553894), ('boy', 0.6848181486129761), ('one', 0.6820703744888306), ('who', 0.6693941354751587), ('he', 0.6683939099311829), ('himself', 0.6633235216140747), ('him', 0.6628837585449219), ('his', 0.6352561116218567)]\n",
            "[('telephones', 0.8227517604827881), ('cellphones', 0.8153213262557983), ('phone', 0.7962128520011902), ('cellphone', 0.7595458030700684), ('mobile', 0.7341449856758118), ('handsets', 0.7247134447097778), ('cellular', 0.7129172682762146), ('laptops', 0.7032603621482849), ('wireless', 0.695544421672821), ('pagers', 0.6919005513191223)]\n"
          ]
        }
      ],
      "source": [
        "### SOLUTION BEGIN\n",
        "print(wv_from_bin.most_similar(\"leaves\"))\n",
        "print(wv_from_bin.most_similar(\"man\"))\n",
        "print(wv_from_bin.most_similar(\"phones\"))\n",
        "### SOLUTION END"
      ]
    },
    {
      "cell_type": "markdown",
      "metadata": {
        "id": "VdQ018tjSSuT"
      },
      "source": [
        "### SOLUTION BEGIN\n",
        "\n",
        "### SOLUTION END"
      ]
    },
    {
      "cell_type": "markdown",
      "metadata": {
        "id": "VfeW-eK9SSuU"
      },
      "source": [
        "### Question 2.3: Synonyms & Antonyms (2 points) [code + written]\n",
        "\n",
        "When considering Cosine Similarity, it's often more convenient to think of Cosine Distance, which is simply 1 - Cosine Similarity.\n",
        "\n",
        "Find three words $(w_1,w_2,w_3)$ where $w_1$ and $w_2$ are synonyms and $w_1$ and $w_3$ are antonyms, but Cosine Distance $(w_1,w_3) <$ Cosine Distance $(w_1,w_2)$.\n",
        "\n",
        "As an example, $w_1$=\"happy\" is closer to $w_3$=\"sad\" than to $w_2$=\"cheerful\". Please find a different example that satisfies the above. Once you have found your example, please give a possible explanation for why this counter-intuitive result may have happened.\n",
        "\n",
        "You should use the the `wv_from_bin.distance(w1, w2)` function here in order to compute the cosine distance between two words. Please see the __[GenSim documentation](https://radimrehurek.com/gensim/models/keyedvectors.html#gensim.models.keyedvectors.FastTextKeyedVectors.distance)__ for further assistance."
      ]
    },
    {
      "cell_type": "code",
      "execution_count": 79,
      "metadata": {
        "id": "bwlpPjpHSSuV",
        "colab": {
          "base_uri": "https://localhost:8080/"
        },
        "outputId": "e74463db-ade8-44d1-8a74-b616df03babd"
      },
      "outputs": [
        {
          "output_type": "stream",
          "name": "stdout",
          "text": [
            "Synonyms paper, book have cosine distance: 0.4402307868003845\n",
            "Antonyms paper, human have cosine distance: 0.7461468577384949\n"
          ]
        }
      ],
      "source": [
        "### SOLUTION BEGIN\n",
        "\n",
        "w1 = \"paper\"\n",
        "w2 = \"book\"\n",
        "w3 = \"human\"\n",
        "w1_w2_dist = wv_from_bin.distance(w1, w2)\n",
        "w1_w3_dist = wv_from_bin.distance(w1, w3)\n",
        "\n",
        "print(\"Synonyms {}, {} have cosine distance: {}\".format(w1, w2, w1_w2_dist))\n",
        "print(\"Antonyms {}, {} have cosine distance: {}\".format(w1, w3, w1_w3_dist))\n",
        "\n",
        "### SOLUTION END"
      ]
    },
    {
      "cell_type": "markdown",
      "metadata": {
        "id": "PeIHjTFMSSuV"
      },
      "source": [
        "### SOLUTION BEGIN\n",
        "\n",
        "### SOLUTION END"
      ]
    },
    {
      "cell_type": "markdown",
      "metadata": {
        "id": "ZxIDq26zSSuW"
      },
      "source": [
        "### Question 2.4: Analogies with Word Vectors [written] (1.5 points)\n",
        "Word vectors have been shown to *sometimes* exhibit the ability to solve analogies.\n",
        "\n",
        "As an example, for the analogy \"man : grandfather :: woman : x\" (read: man is to grandfather as woman is to x), what is x?\n",
        "\n",
        "In the cell below, we show you how to use word vectors to find x using the `most_similar` function from the __[GenSim documentation](https://radimrehurek.com/gensim/models/keyedvectors.html#gensim.models.keyedvectors.KeyedVectors.most_similar)__. The function finds words that are most similar to the words in the `positive` list and most dissimilar from the words in the `negative` list (while omitting the input words, which are often the most similar; see [this paper](https://www.aclweb.org/anthology/N18-2039.pdf)). The answer to the analogy will have the highest cosine similarity (largest returned numerical value)."
      ]
    },
    {
      "cell_type": "code",
      "execution_count": 80,
      "metadata": {
        "id": "u0pC7H4VSSuY",
        "colab": {
          "base_uri": "https://localhost:8080/"
        },
        "outputId": "e04eec77-6058-4daa-de7f-8d5053fb357a"
      },
      "outputs": [
        {
          "output_type": "stream",
          "name": "stdout",
          "text": [
            "[('grandmother', 0.7608445286750793),\n",
            " ('granddaughter', 0.7200808525085449),\n",
            " ('daughter', 0.7168302536010742),\n",
            " ('mother', 0.7151536345481873),\n",
            " ('niece', 0.7005682587623596),\n",
            " ('father', 0.6659887433052063),\n",
            " ('aunt', 0.6623408794403076),\n",
            " ('grandson', 0.6618767976760864),\n",
            " ('grandparents', 0.644661009311676),\n",
            " ('wife', 0.6445354223251343)]\n"
          ]
        }
      ],
      "source": [
        "# Run this cell to answer the analogy -- man : grandfather :: woman : x\n",
        "pprint.pprint(wv_from_bin.most_similar(positive=['woman', 'grandfather'], negative=['man']))"
      ]
    },
    {
      "cell_type": "markdown",
      "metadata": {
        "id": "XVv8I9WwSSuZ"
      },
      "source": [
        "Let $m$, $g$, $w$, and $x$ denote the word vectors for `man`, `grandfather`, `woman`, and the answer, respectively. Using **only** vectors $m$, $g$, $w$, and the vector arithmetic operators $+$ and $-$ in your answer, to what expression are we maximizing $x$'s cosine similarity?\n",
        "\n",
        "Hint: Recall that word vectors are simply multi-dimensional vectors that represent a word. It might help to draw out a 2D example using arbitrary locations of each vector. Where would `man` and `woman` lie in the coordinate plane relative to `grandfather` and the answer?"
      ]
    },
    {
      "cell_type": "markdown",
      "metadata": {
        "id": "KlUKBqtHSSuZ"
      },
      "source": [
        "### SOLUTION BEGIN\n",
        "\n",
        "### SOLUTION END"
      ]
    },
    {
      "cell_type": "markdown",
      "metadata": {
        "id": "2rRgMca9SSua"
      },
      "source": [
        "### Question 2.5: Finding Analogies [code + written]  (1.5 points)\n",
        "a. For the previous example, it's clear that \"grandmother\" completes the analogy. But give an intuitive explanation as to why the `most_similar` function gives us words like \"granddaughter\", \"daughter\", or \"mother?"
      ]
    },
    {
      "cell_type": "code",
      "source": [
        "pprint.pprint(wv_from_bin.most_similar(positive=['chess', 'student'], negative=['school']))"
      ],
      "metadata": {
        "colab": {
          "base_uri": "https://localhost:8080/"
        },
        "id": "n7VLYWe6svhR",
        "outputId": "e5e799bf-53b9-4eb5-b3ea-5136a25882ee"
      },
      "execution_count": 89,
      "outputs": [
        {
          "output_type": "stream",
          "name": "stdout",
          "text": [
            "[('kasparov', 0.5767731666564941),\n",
            " ('grandmasters', 0.5047975182533264),\n",
            " ('grandmaster', 0.49858272075653076),\n",
            " ('backgammon', 0.43717116117477417),\n",
            " ('xiangqi', 0.42061591148376465),\n",
            " ('participant', 0.4187683165073395),\n",
            " ('player', 0.40098270773887634),\n",
            " ('olympiads', 0.3932381570339203),\n",
            " ('olympiad', 0.3903811573982239),\n",
            " ('billiards', 0.3902430832386017)]\n"
          ]
        }
      ]
    },
    {
      "cell_type": "markdown",
      "metadata": {
        "id": "WgYQXazQSSua"
      },
      "source": [
        "### SOLUTION BEGIN\n",
        "Mainly because, other words might have less cosine difference betwenn grandmother, that's why iot might have given, these answers\n",
        "### SOLUTION END"
      ]
    },
    {
      "cell_type": "markdown",
      "metadata": {
        "id": "p9aAUXEISSub"
      },
      "source": [
        "b. Find an example of analogy that holds according to these vectors (i.e. the intended word is ranked top). In your solution please state the full analogy in the form x:y :: a:b. If you believe the analogy is complicated, explain why the analogy holds in one or two sentences.\n",
        "\n",
        "**Note**: You may have to try many analogies to find one that works!"
      ]
    },
    {
      "cell_type": "code",
      "execution_count": 92,
      "metadata": {
        "id": "dhzQJMYYVSjf",
        "colab": {
          "base_uri": "https://localhost:8080/"
        },
        "outputId": "6e0a21c4-222f-47ed-affa-5e36a68aa622"
      },
      "outputs": [
        {
          "output_type": "stream",
          "name": "stdout",
          "text": [
            "album\n"
          ]
        }
      ],
      "source": [
        "### SOLUTION BEGIN\n",
        "\n",
        "x, y, a, b = \"paper\", \"book\", \"metal\", \"steel\"\n",
        "print(wv_from_bin.most_similar(positive=[a, y], negative=[x])[0][0])\n",
        "\n",
        "### SOLUTION END"
      ]
    },
    {
      "cell_type": "markdown",
      "metadata": {
        "id": "K3QlPqAwSSub"
      },
      "source": [
        "### SOLUTION BEGIN\n",
        "\n",
        "### SOLUTION END"
      ]
    },
    {
      "cell_type": "markdown",
      "metadata": {
        "id": "SwgcEywwSSuc"
      },
      "source": [
        "### Question 2.6: Incorrect Analogy [code + written] (1.5 points)\n",
        "a. Below, we expect to see the intended analogy \"hand : glove :: foot : **sock**\", but we see an unexpected result instead. Give a potential reason as to why this particular analogy turned out the way it did?"
      ]
    },
    {
      "cell_type": "code",
      "execution_count": 81,
      "metadata": {
        "id": "m-ykWoJoSSuc",
        "colab": {
          "base_uri": "https://localhost:8080/"
        },
        "outputId": "93417f5d-f837-466a-bb93-8603e76806fd"
      },
      "outputs": [
        {
          "output_type": "stream",
          "name": "stdout",
          "text": [
            "[('45,000-square', 0.4922032654285431),\n",
            " ('15,000-square', 0.4649604558944702),\n",
            " ('10,000-square', 0.4544755816459656),\n",
            " ('6,000-square', 0.44975775480270386),\n",
            " ('3,500-square', 0.444133460521698),\n",
            " ('700-square', 0.44257497787475586),\n",
            " ('50,000-square', 0.4356396794319153),\n",
            " ('3,000-square', 0.43486514687538147),\n",
            " ('30,000-square', 0.4330596923828125),\n",
            " ('footed', 0.43236875534057617)]\n"
          ]
        }
      ],
      "source": [
        "pprint.pprint(wv_from_bin.most_similar(positive=['foot', 'glove'], negative=['hand']))"
      ]
    },
    {
      "cell_type": "markdown",
      "metadata": {
        "id": "zn4ruS8MSSud"
      },
      "source": [
        "### SOLUTION BEGIN\n",
        "\n",
        "### SOLUTION END"
      ]
    },
    {
      "cell_type": "markdown",
      "metadata": {
        "id": "D1gHyZt0SSud"
      },
      "source": [
        "b. Find another example of analogy that does *not* hold according to these vectors. In your solution, state the intended analogy in the form x:y :: a:b, and state the **incorrect** value of b according to the word vectors (in the previous example, this would be **'45,000-square'**)."
      ]
    },
    {
      "cell_type": "code",
      "execution_count": 91,
      "metadata": {
        "id": "D_rlci42XQTw",
        "colab": {
          "base_uri": "https://localhost:8080/"
        },
        "outputId": "d59e3c0b-3623-4dbc-d96d-62dbd9368d86"
      },
      "outputs": [
        {
          "output_type": "stream",
          "name": "stdout",
          "text": [
            "[('clubs', 0.6028679013252258),\n",
            " ('members', 0.5147154927253723),\n",
            " ('football', 0.4924296438694),\n",
            " ('involved', 0.491309255361557),\n",
            " ('least', 0.4749758243560791),\n",
            " ('locals', 0.473039835691452),\n",
            " ('some', 0.472835510969162),\n",
            " ('professional', 0.46145209670066833),\n",
            " ('players', 0.461005300283432),\n",
            " ('participants', 0.46040016412734985)]\n"
          ]
        }
      ],
      "source": [
        "### SOLUTION BEGIN\n",
        "\n",
        "x, y, a, b = \"home\",\"people\", \"club\", \"friends\"\n",
        "pprint.pprint(wv_from_bin.most_similar(positive=[a, y], negative=[x]))\n",
        "\n",
        "### SOLUTION END"
      ]
    },
    {
      "cell_type": "markdown",
      "metadata": {
        "id": "c4x0EHjeSSue"
      },
      "source": [
        "### SOLUTION BEGIN\n",
        "\n",
        "### SOLUTION END"
      ]
    },
    {
      "cell_type": "markdown",
      "metadata": {
        "id": "yvlycXN-SSuf"
      },
      "source": [
        "### Question 2.7: Guided Analysis of Bias in Word Vectors [written] (1 point)\n",
        "\n",
        "It's important to be cognizant of the biases (gender, race, sexual orientation etc.) implicit in our word embeddings. Bias can be dangerous because it can reinforce stereotypes through applications that employ these models.\n",
        "\n",
        "Run the cell below, to examine (a) which terms are most similar to \"woman\" and \"profession\" and most dissimilar to \"man\", and (b) which terms are most similar to \"man\" and \"profession\" and most dissimilar to \"woman\". Point out the difference between the list of female-associated words and the list of male-associated words, and explain how it is reflecting gender bias."
      ]
    },
    {
      "cell_type": "code",
      "execution_count": 93,
      "metadata": {
        "id": "XggWA4MhSSuf",
        "colab": {
          "base_uri": "https://localhost:8080/"
        },
        "outputId": "aa82a67d-3909-4af7-eb17-dbc1a728d87d"
      },
      "outputs": [
        {
          "output_type": "stream",
          "name": "stdout",
          "text": [
            "[('reputation', 0.5250176787376404),\n",
            " ('professions', 0.5178037881851196),\n",
            " ('skill', 0.49046966433525085),\n",
            " ('skills', 0.49005505442619324),\n",
            " ('ethic', 0.4897659420967102),\n",
            " ('business', 0.4875852167606354),\n",
            " ('respected', 0.485920250415802),\n",
            " ('practice', 0.482104629278183),\n",
            " ('regarded', 0.4778572618961334),\n",
            " ('life', 0.4760662019252777)]\n",
            "\n",
            "[('professions', 0.5957457423210144),\n",
            " ('practitioner', 0.49884122610092163),\n",
            " ('teaching', 0.48292139172554016),\n",
            " ('nursing', 0.48211804032325745),\n",
            " ('vocation', 0.4788965880870819),\n",
            " ('teacher', 0.47160351276397705),\n",
            " ('practicing', 0.46937814354896545),\n",
            " ('educator', 0.46524327993392944),\n",
            " ('physicians', 0.4628995358943939),\n",
            " ('professionals', 0.4601394236087799)]\n"
          ]
        }
      ],
      "source": [
        "# Run this cell\n",
        "# Here `positive` indicates the list of words to be similar to and `negative` indicates the list of words to be\n",
        "# most dissimilar from.\n",
        "\n",
        "pprint.pprint(wv_from_bin.most_similar(positive=['man', 'profession'], negative=['woman']))\n",
        "print()\n",
        "pprint.pprint(wv_from_bin.most_similar(positive=['woman', 'profession'], negative=['man']))"
      ]
    },
    {
      "cell_type": "markdown",
      "metadata": {
        "id": "x4g6KbsYSSuh"
      },
      "source": [
        "### SOLUTION BEGIN\n",
        "\n",
        "### SOLUTION END"
      ]
    },
    {
      "cell_type": "markdown",
      "metadata": {
        "id": "LxJmnS6lSSui"
      },
      "source": [
        "### Question 2.8: Independent Analysis of Bias in Word Vectors [code + written]  (1 point)\n",
        "\n",
        "Use the `most_similar` function to find another pair of analogies that demonstrates some bias is exhibited by the vectors. Please briefly explain the example of bias that you discover."
      ]
    },
    {
      "cell_type": "code",
      "execution_count": 97,
      "metadata": {
        "id": "PZoDheIfSSui",
        "colab": {
          "base_uri": "https://localhost:8080/"
        },
        "outputId": "76ceb187-afbc-4ff2-e418-52696552be93"
      },
      "outputs": [
        {
          "output_type": "stream",
          "name": "stdout",
          "text": [
            "[('jobs', 0.6508916616439819),\n",
            " ('she', 0.5962086915969849),\n",
            " ('employment', 0.5889442563056946),\n",
            " ('hiring', 0.5646025538444519),\n",
            " ('her', 0.5634142756462097),\n",
            " ('worker', 0.5537095069885254),\n",
            " ('employees', 0.5448188781738281),\n",
            " ('herself', 0.5337908267974854),\n",
            " ('working', 0.5294958353042603),\n",
            " ('workers', 0.5235779285430908)]\n",
            "\n",
            "[('good', 0.6235801577568054),\n",
            " ('jobs', 0.6217116713523865),\n",
            " ('work', 0.6072925329208374),\n",
            " ('better', 0.5992015600204468),\n",
            " ('doing', 0.5963488221168518),\n",
            " ('he', 0.5912371277809143),\n",
            " ('done', 0.5905477404594421),\n",
            " ('going', 0.5766876935958862),\n",
            " ('working', 0.5572508573532104),\n",
            " ('but', 0.5560905933380127)]\n"
          ]
        }
      ],
      "source": [
        "### SOLUTION BEGIN\n",
        "\n",
        "A = \"woman\"\n",
        "B = \"man\"\n",
        "word = \"job\"\n",
        "pprint.pprint(wv_from_bin.most_similar(positive=[A, word], negative=[B]))\n",
        "print()\n",
        "pprint.pprint(wv_from_bin.most_similar(positive=[B, word], negative=[A]))\n",
        "\n",
        "### SOLUTION END"
      ]
    },
    {
      "cell_type": "markdown",
      "metadata": {
        "id": "TGOlmtJoSSuj"
      },
      "source": [
        "### SOLUTION BEGIN\n",
        "\n",
        "### SOLUTION END"
      ]
    },
    {
      "cell_type": "markdown",
      "metadata": {
        "id": "eK2XVWzmSSuk"
      },
      "source": [
        "### Question 2.9: Thinking About Bias [written] (2 points)\n",
        "\n",
        "a. Give one explanation of how bias gets into the word vectors. Briefly describe a real-world example that demonstrates this source of bias."
      ]
    },
    {
      "cell_type": "markdown",
      "metadata": {
        "id": "19pM85fCSSuk"
      },
      "source": [
        "### SOLUTION BEGIN\n",
        "As we can see above, when man and job's cosine similary gives good, whereas for woman, it starts giving random examples\n",
        "### SOLUTION END"
      ]
    },
    {
      "cell_type": "markdown",
      "metadata": {
        "id": "ILYqJZ7ASSul"
      },
      "source": [
        "b. What is one method you can use to mitigate bias exhibited by word vectors?  Briefly describe a real-world example that demonstrates this method."
      ]
    },
    {
      "cell_type": "markdown",
      "metadata": {
        "id": "dnJaAB7mSSul"
      },
      "source": [
        "\n",
        "### SOLUTION BEGIN\n",
        "Making sure that when adding data this data are not present and if are there then adding more data via other source or data duplication.\n",
        "\n",
        "### SOLUTION END"
      ]
    },
    {
      "cell_type": "markdown",
      "metadata": {
        "id": "dzh3eEmZSSum"
      },
      "source": [
        "# <font color=\"blue\"> Submission Instructions</font>\n",
        "\n",
        "1. Click the Save button at the top of the Jupyter Notebook.\n",
        "2. Select Cell -> All Output -> Clear. This will clear all the outputs from all cells (but will keep the content of all cells).\n",
        "2. Select Cell -> Run All. This will run all the cells in order, and will take several minutes.\n",
        "3. Once you've rerun everything, select File -> Download as -> PDF via LaTeX (If you have trouble using \"PDF via LaTex\", you can also save the webpage as pdf. <font color='blue'> Make sure all your solutions especially the coding parts are displayed in the pdf</font>, it's okay if the provided codes get cut off because lines are not wrapped in code cells).\n",
        "4. Look at the PDF file and make sure all your solutions are there, displayed correctly. The PDF is the only thing your graders will see!\n",
        "5. Submit your PDF on Gradescope."
      ]
    }
  ],
  "metadata": {
    "anaconda-cloud": {},
    "colab": {
      "provenance": []
    },
    "kernelspec": {
      "display_name": "Python 3 (ipykernel)",
      "language": "python",
      "name": "python3"
    },
    "language_info": {
      "codemirror_mode": {
        "name": "ipython",
        "version": 3
      },
      "file_extension": ".py",
      "mimetype": "text/x-python",
      "name": "python",
      "nbconvert_exporter": "python",
      "pygments_lexer": "ipython3",
      "version": "3.9.18"
    }
  },
  "nbformat": 4,
  "nbformat_minor": 0
}